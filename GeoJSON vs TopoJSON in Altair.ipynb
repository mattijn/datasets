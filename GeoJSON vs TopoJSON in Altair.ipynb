{
 "cells": [
  {
   "cell_type": "code",
   "execution_count": null,
   "metadata": {},
   "outputs": [],
   "source": [
    "{\"features\": [{\"geometry\": {\"coordinates\": [[[0, 0], [1, 0], [1, 1], [0, 1], [0, 0]]], \"type\": \"Polygon\"}, \"properties\": {\"name\": \"abc\"}, \"type\": \"Feature\"}, {\"geometry\": {\"coordinates\": [[[1, 0], [2, 0], [2, 1], [1, 1], [1, 0]]], \"type\": \"Polygon\"}, \"properties\": {\"name\": \"def\"}, \"type\": \"Feature\"}], \"type\": \"FeatureCollection\"}"
   ]
  }
 ],
 "metadata": {
  "kernelspec": {
   "display_name": "Python 3",
   "language": "python",
   "name": "python3"
  },
  "language_info": {
   "codemirror_mode": {
    "name": "ipython",
    "version": 3
   },
   "file_extension": ".py",
   "mimetype": "text/x-python",
   "name": "python",
   "nbconvert_exporter": "python",
   "pygments_lexer": "ipython3",
   "version": "3.6.5"
  }
 },
 "nbformat": 4,
 "nbformat_minor": 4
}
