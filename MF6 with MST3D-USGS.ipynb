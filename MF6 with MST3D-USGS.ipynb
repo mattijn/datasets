{
 "cells": [
  {
   "cell_type": "code",
   "execution_count": 1,
   "metadata": {},
   "outputs": [
    {
     "name": "stdout",
     "output_type": "stream",
     "text": [
      "flopy is installed in /Users/mattijnvanhoek/miniconda3/lib/python3.7/site-packages/flopy\n"
     ]
    }
   ],
   "source": [
    "import os\n",
    "import numpy as np\n",
    "import matplotlib.pyplot as plt\n",
    "import flopy"
   ]
  },
  {
   "cell_type": "code",
   "execution_count": 2,
   "metadata": {},
   "outputs": [],
   "source": [
    "workspace = r'/Users/mattijnvanhoek/modflow6/output/mf-mt-hatari'\n",
    "if not os.path.exists(workspace):\n",
    "    os.makedirs(workspace)"
   ]
  },
  {
   "cell_type": "code",
   "execution_count": 3,
   "metadata": {},
   "outputs": [],
   "source": [
    "# name\n",
    "name = 'mf-hatari'\n",
    "\n",
    "# exe name\n",
    "exe_name = r'/Users/mattijnvanhoek/modflow6/bin/mf6'\n",
    "\n",
    "sim = flopy.mf6.MFSimulation(\n",
    "    sim_name=name,\n",
    "    exe_name=exe_name, \n",
    "    version='mf6',\n",
    "    sim_ws=workspace\n",
    ")"
   ]
  },
  {
   "cell_type": "code",
   "execution_count": 4,
   "metadata": {},
   "outputs": [],
   "source": [
    "# Model domain and grid definition\n",
    "Lx = 310\n",
    "Ly = 310\n",
    "nlay = 1\n",
    "nrow = 31\n",
    "ncol = 31\n",
    "delr = Lx / ncol\n",
    "delc = Ly / nrow\n",
    "top = np.ones((nrow, ncol))\n",
    "botm = np.zeros((nrow, ncol))\n",
    "perlen = 27."
   ]
  },
  {
   "cell_type": "code",
   "execution_count": 5,
   "metadata": {},
   "outputs": [],
   "source": [
    "tdis = flopy.mf6.ModflowTdis(\n",
    "    simulation=sim, \n",
    "    time_units='DAYS', \n",
    "    pname='tdis',\n",
    "    perioddata=((perlen, 1, 1.),)\n",
    ")"
   ]
  },
  {
   "cell_type": "code",
   "execution_count": 6,
   "metadata": {},
   "outputs": [],
   "source": [
    "model_nam_file = '{}.nam'.format(name)\n",
    "gwf = flopy.mf6.ModflowGwf(\n",
    "    simulation=sim, \n",
    "    modelname=name, \n",
    "    model_nam_file=model_nam_file\n",
    ")"
   ]
  },
  {
   "cell_type": "code",
   "execution_count": 7,
   "metadata": {},
   "outputs": [],
   "source": [
    "ims = flopy.mf6.ModflowIms(\n",
    "    simulation=sim, \n",
    "    pname='ims', \n",
    "    complexity='SIMPLE'\n",
    ")"
   ]
  },
  {
   "cell_type": "code",
   "execution_count": 8,
   "metadata": {},
   "outputs": [],
   "source": [
    "idomain = np.ones((nlay, nrow, ncol), dtype=np.int32)\n",
    "\n",
    "dis = flopy.mf6.ModflowGwfdis(\n",
    "    model=gwf, \n",
    "    pname='dis', \n",
    "    nlay=nlay, \n",
    "    nrow=nrow, \n",
    "    ncol=ncol,\n",
    "    delr=delr,\n",
    "    delc=delc,\n",
    "    top=top,\n",
    "    botm=botm, \n",
    "    idomain=idomain\n",
    ")"
   ]
  },
  {
   "cell_type": "code",
   "execution_count": 9,
   "metadata": {},
   "outputs": [],
   "source": [
    "strt = 15 #starting head\n",
    "\n",
    "ic = flopy.mf6.ModflowGwfic(\n",
    "    model=gwf, \n",
    "    pname='ic', \n",
    "    strt=strt\n",
    ")"
   ]
  },
  {
   "cell_type": "code",
   "execution_count": 10,
   "metadata": {},
   "outputs": [],
   "source": [
    "npf = flopy.mf6.ModflowGwfnpf(\n",
    "    model=gwf, \n",
    "    pname='npf', \n",
    "    icelltype=0, \n",
    "    save_flows=True\n",
    ")"
   ]
  },
  {
   "cell_type": "code",
   "execution_count": 11,
   "metadata": {},
   "outputs": [
    {
     "data": {
      "image/png": "[encoded data removed]",
      "text/plain": [
       "<Figure size 432x288 with 1 Axes>"
      ]
     },
     "metadata": {
      "needs_background": "light"
     },
     "output_type": "display_data"
    }
   ],
   "source": [
    "chd_data = []\n",
    "chd = 15    \n",
    "    \n",
    "for c in range(1,31):\n",
    "    dd = [(0, 0, c), chd]\n",
    "    chd_data.append(dd)\n",
    "for c in range(1,31):\n",
    "    dd = [(0, c, 30), chd]\n",
    "    chd_data.append(dd)\n",
    "for c in range(0,30):\n",
    "    dd = [(0, 30, c), chd]\n",
    "    chd_data.append(dd)\n",
    "for c in range(0,30):\n",
    "    dd = [(0, c, 0), chd]\n",
    "    chd_data.append(dd)    \n",
    "\n",
    "chd = flopy.mf6.ModflowGwfchd(\n",
    "    model=gwf, \n",
    "    pname='chd', \n",
    "    maxbound=len(chd_data), \n",
    "    stress_period_data=chd_data, \n",
    "    save_flows=True\n",
    ")\n",
    "ra = chd.stress_period_data.get_data(key=0)    \n",
    "\n",
    "ibd = np.ones((nlay, nrow, ncol), dtype=np.int)\n",
    "for k, i, j in ra['cellid']:\n",
    "    ibd[k, i, j] = -1\n",
    "\n",
    "ilay = 0\n",
    "plt.imshow(ibd[ilay, :, :], interpolation='none')\n",
    "plt.title('Layer {}: Constant Head Cells'.format(ilay + 1))\n",
    "plt.show()"
   ]
  },
  {
   "cell_type": "code",
   "execution_count": 12,
   "metadata": {},
   "outputs": [
    {
     "data": {
      "image/png": "[encoded data removed]",
      "text/plain": [
       "<Figure size 432x288 with 1 Axes>"
      ]
     },
     "metadata": {
      "needs_background": "light"
     },
     "output_type": "display_data"
    }
   ],
   "source": [
    "# build a stress_period_data template with 1 wells over 1 stress period\n",
    "wel_periodrec = flopy.mf6.ModflowGwfwel.stress_period_data.empty(\n",
    "    model=gwf, \n",
    "    maxbound=1, \n",
    "    boundnames=True, \n",
    "    aux_vars=None,\n",
    "    stress_periods=[0]\n",
    ")\n",
    "\n",
    "wcol = 15  # x index for the well\n",
    "wrow = 15  # y index for the well\n",
    "wlay = 0\n",
    "q = 100. # postive is injection, negative is extraction\n",
    "\n",
    "# [idx_stress_period][idx_well] = ((wlay, wrow, wcol), q, name_well)\n",
    "wel_periodrec[0][0] = ((wlay, wrow, wcol), q, 'well_1')\n",
    "\n",
    "# build the well package\n",
    "wel = flopy.mf6.ModflowGwfwel(\n",
    "    model=gwf,\n",
    "    pname='wel', \n",
    "    print_input=True, \n",
    "    print_flows=True,\n",
    "    maxbound=1,\n",
    "    stress_period_data=wel_periodrec, \n",
    "    boundnames=True, \n",
    "    save_flows=True\n",
    ")\n",
    "\n",
    "ra = wel.stress_period_data.get_data(key=0)\n",
    "\n",
    "ibd = np.ones((nlay, nrow, ncol), dtype=np.int)\n",
    "for k, i, j in ra['cellid']:\n",
    "    ibd[k, i, j] = -1\n",
    "\n",
    "ilay = 0\n",
    "plt.imshow(ibd[ilay, :, :], interpolation='none')\n",
    "plt.title('Layer {}: Location wells'.format(ilay + 1))\n",
    "plt.show()"
   ]
  },
  {
   "cell_type": "code",
   "execution_count": 13,
   "metadata": {},
   "outputs": [],
   "source": [
    "headfile = '{}.hds'.format(name)\n",
    "head_filerecord = [headfile]\n",
    "budgetfile = '{}.cbb'.format(name)\n",
    "budget_filerecord = [budgetfile]\n",
    "saverecord = [('HEAD', 'ALL'), \n",
    "              ('BUDGET', 'ALL')]\n",
    "printrecord = [('HEAD', 'LAST')]\n",
    "    \n",
    "oc = flopy.mf6.ModflowGwfoc(\n",
    "    model=gwf, \n",
    "    pname='oc', \n",
    "    saverecord=saverecord, \n",
    "    head_filerecord=head_filerecord,\n",
    "    budget_filerecord=budget_filerecord,\n",
    "    printrecord=printrecord\n",
    ")"
   ]
  },
  {
   "cell_type": "code",
   "execution_count": 14,
   "metadata": {},
   "outputs": [
    {
     "name": "stdout",
     "output_type": "stream",
     "text": [
      "writing simulation...\n",
      "  writing simulation name file...\n",
      "  writing simulation tdis package...\n",
      "  writing ims package ims...\n",
      "  writing model mf-hatari...\n",
      "    writing model name file...\n",
      "    writing package dis...\n",
      "    writing package ic...\n",
      "    writing package npf...\n",
      "    writing package chd...\n",
      "    writing package wel...\n",
      "    writing package oc...\n"
     ]
    }
   ],
   "source": [
    "# Write the datasets\n",
    "sim.write_simulation()"
   ]
  },
  {
   "cell_type": "code",
   "execution_count": 15,
   "metadata": {},
   "outputs": [
    {
     "name": "stdout",
     "output_type": "stream",
     "text": [
      "FloPy is using the following  executable to run the model: /Users/mattijnvanhoek/modflow6/bin/mf6\n",
      "                                   MODFLOW 6\n",
      "                U.S. GEOLOGICAL SURVEY MODULAR HYDROLOGIC MODEL\n",
      "                            VERSION 6.1.0 12/12/2019\n",
      "\n",
      "  MODFLOW 6 compiled Jan  2 2020 21:28:58 with GFORTRAN compiler (ver. 8.3.0)\n",
      "\n",
      "This software has been approved for release by the U.S. Geological \n",
      "Survey (USGS). Although the software has been subjected to rigorous \n",
      "review, the USGS reserves the right to update the software as needed \n",
      "pursuant to further analysis and review. No warranty, expressed or \n",
      "implied, is made by the USGS or the U.S. Government as to the \n",
      "functionality of the software and related material nor shall the \n",
      "fact of release constitute any such warranty. Furthermore, the \n",
      "software is released on condition that neither the USGS nor the U.S. \n",
      "Government shall be held liable for any damages resulting from its \n",
      "authorized or unauthorized use. Also refer to the USGS Water \n",
      "Resources Software User Rights Notice for complete use, copyright, \n",
      "and distribution information.\n",
      "\n",
      " Run start date and time (yyyy/mm/dd hh:mm:ss): 2020/01/10 23:23:44\n",
      "\n",
      " Writing simulation list file: mfsim.lst\n",
      " Using Simulation name file: mfsim.nam\n",
      " Solving:  Stress period:     1    Time step:     1\n",
      " Run end date and time (yyyy/mm/dd hh:mm:ss): 2020/01/10 23:23:44\n",
      " Elapsed run time:  0.023 Seconds\n",
      "\n",
      " Normal termination of simulation.\n",
      "\n",
      "Success is:  True\n"
     ]
    }
   ],
   "source": [
    "# Run the simulation\n",
    "success, buff = sim.run_simulation()\n",
    "print('\\nSuccess is: ', success)"
   ]
  },
  {
   "cell_type": "code",
   "execution_count": 16,
   "metadata": {},
   "outputs": [
    {
     "data": {
      "image/png": "[encoded data removed]",
      "text/plain": [
       "<Figure size 432x288 with 2 Axes>"
      ]
     },
     "metadata": {
      "needs_background": "light"
     },
     "output_type": "display_data"
    }
   ],
   "source": [
    "# plot model results\n",
    "import matplotlib.pyplot as plt\n",
    "import flopy.utils.binaryfile as bf\n",
    "\n",
    "# create the headfile object\n",
    "fname = os.path.join(workspace, headfile)\n",
    "headobj = flopy.utils.binaryfile.HeadFile(fname)\n",
    "head = headobj.get_data(totim=27)\n",
    "times = headobj.get_times()\n",
    "\n",
    "# Setup contour parameters\n",
    "levels = np.arange(0, 90, 5)\n",
    "extent = (delr/2., Lx - delr/2., delc/2., Ly - delc/2.)\n",
    "\n",
    "# Make the plots\n",
    "plt.subplot(1, 1, 1, aspect='equal')\n",
    "plt.title('Head distribution (m)')\n",
    "plt.imshow(head[0, :, :], extent=extent, cmap='YlGnBu', vmin=0., vmax=90.)\n",
    "plt.colorbar()\n",
    "\n",
    "contours = plt.contour(np.flipud(head[0, :, :]), levels=levels, extent=extent, zorder=10)\n",
    "plt.clabel(contours, inline=1, fontsize=10, fmt='%d')\n",
    "\n",
    "plt.show()"
   ]
  },
  {
   "cell_type": "code",
   "execution_count": 17,
   "metadata": {},
   "outputs": [
    {
     "ename": "Exception",
     "evalue": "BTN error. Required input is None, but no modflow model. If no modflow model is passed to Mt3dms, then values must be specified in the BTN constructor for: nlay, nrow, ncol, nper, laycon, delr, delc, htop, dz, perlen, nstp, and tsmult.",
     "output_type": "error",
     "traceback": [
      "\u001b[0;31m---------------------------------------------------------------------------\u001b[0m",
      "\u001b[0;31mException\u001b[0m                                 Traceback (most recent call last)",
      "\u001b[0;32m<ipython-input-17-2b82baaa0bf0>\u001b[0m in \u001b[0;36m<module>\u001b[0;34m\u001b[0m\n\u001b[1;32m     24\u001b[0m     \u001b[0mthkmin\u001b[0m\u001b[0;34m=\u001b[0m\u001b[0;36m0.01\u001b[0m\u001b[0;34m,\u001b[0m\u001b[0;34m\u001b[0m\u001b[0;34m\u001b[0m\u001b[0m\n\u001b[1;32m     25\u001b[0m     \u001b[0mmunit\u001b[0m\u001b[0;34m=\u001b[0m\u001b[0;34m'g'\u001b[0m\u001b[0;34m,\u001b[0m\u001b[0;34m\u001b[0m\u001b[0;34m\u001b[0m\u001b[0m\n\u001b[0;32m---> 26\u001b[0;31m     \u001b[0micbund\u001b[0m\u001b[0;34m=\u001b[0m\u001b[0micbund\u001b[0m\u001b[0;34m\u001b[0m\u001b[0;34m\u001b[0m\u001b[0m\n\u001b[0m\u001b[1;32m     27\u001b[0m )\n",
      "\u001b[0;32m~/miniconda3/lib/python3.7/site-packages/flopy/mt3d/mtbtn.py\u001b[0m in \u001b[0;36m__init__\u001b[0;34m(self, model, MFStyleArr, DRYCell, Legacy99Stor, FTLPrint, NoWetDryPrint, OmitDryBud, AltWTSorb, nlay, nrow, ncol, nper, ncomp, mcomp, tunit, lunit, munit, laycon, delr, delc, htop, dz, prsity, icbund, sconc, cinact, thkmin, ifmtcn, ifmtnp, ifmtrf, ifmtdp, savucn, nprs, timprs, obs, nprobs, chkmas, nprmas, perlen, nstp, tsmult, ssflag, dt0, mxstrn, ttsmult, ttsmax, species_names, extension, unitnumber, filenames, **kwargs)\u001b[0m\n\u001b[1;32m    218\u001b[0m         \u001b[0;31m# they are specified in the constructor.\u001b[0m\u001b[0;34m\u001b[0m\u001b[0;34m\u001b[0m\u001b[0;34m\u001b[0m\u001b[0m\n\u001b[1;32m    219\u001b[0m         self.setmodflowvars(nlay, nrow, ncol, nper, laycon, delr, delc, htop,\n\u001b[0;32m--> 220\u001b[0;31m                             dz, perlen, nstp, tsmult)\n\u001b[0m\u001b[1;32m    221\u001b[0m \u001b[0;34m\u001b[0m\u001b[0m\n\u001b[1;32m    222\u001b[0m         \u001b[0;31m# Make the rest of the assignments\u001b[0m\u001b[0;34m\u001b[0m\u001b[0;34m\u001b[0m\u001b[0;34m\u001b[0m\u001b[0m\n",
      "\u001b[0;32m~/miniconda3/lib/python3.7/site-packages/flopy/mt3d/mtbtn.py\u001b[0m in \u001b[0;36msetmodflowvars\u001b[0;34m(self, nlay, nrow, ncol, nper, laycon, delr, delc, htop, dz, perlen, nstp, tsmult)\u001b[0m\n\u001b[1;32m    334\u001b[0m                 \u001b[0ms\u001b[0m \u001b[0;34m+=\u001b[0m \u001b[0;34m'perlen, nstp, and tsmult.'\u001b[0m\u001b[0;34m\u001b[0m\u001b[0;34m\u001b[0m\u001b[0m\n\u001b[1;32m    335\u001b[0m                 \u001b[0;32mif\u001b[0m \u001b[0mv\u001b[0m \u001b[0;32mis\u001b[0m \u001b[0;32mNone\u001b[0m\u001b[0;34m:\u001b[0m\u001b[0;34m\u001b[0m\u001b[0;34m\u001b[0m\u001b[0m\n\u001b[0;32m--> 336\u001b[0;31m                     \u001b[0;32mraise\u001b[0m \u001b[0mException\u001b[0m\u001b[0;34m(\u001b[0m\u001b[0ms\u001b[0m\u001b[0;34m)\u001b[0m\u001b[0;34m\u001b[0m\u001b[0;34m\u001b[0m\u001b[0m\n\u001b[0m\u001b[1;32m    337\u001b[0m \u001b[0;34m\u001b[0m\u001b[0m\n\u001b[1;32m    338\u001b[0m         \u001b[0;32mif\u001b[0m \u001b[0mnlay\u001b[0m \u001b[0;32mis\u001b[0m \u001b[0;32mnot\u001b[0m \u001b[0;32mNone\u001b[0m\u001b[0;34m:\u001b[0m\u001b[0;34m\u001b[0m\u001b[0;34m\u001b[0m\u001b[0m\n",
      "\u001b[0;31mException\u001b[0m: BTN error. Required input is None, but no modflow model. If no modflow model is passed to Mt3dms, then values must be specified in the BTN constructor for: nlay, nrow, ncol, nper, laycon, delr, delc, htop, dz, perlen, nstp, and tsmult."
     ]
    }
   ],
   "source": [
    "## Trial 1\n",
    "# name\n",
    "name_mt3d = 'mt-hatari'\n",
    "\n",
    "# exe name\n",
    "exe_name = r'/Users/mattijnvanhoek/modflow6/bin/mt3dusgs'\n",
    "\n",
    "#MT3D-USGS\n",
    "mt_model = flopy.mt3d.Mt3dms(\n",
    "    modelname=name_mt3d,\n",
    "    version='mt3d-usgs',\n",
    "    exe_name=exe_name,\n",
    "    modflowmodel=sim\n",
    ")\n",
    "\n",
    "#BTN file\n",
    "icbund = idomain.copy()\n",
    "icbund[0, 15, 15] = -1 #constant concentration\n",
    "\n",
    "btn = flopy.mt3d.Mt3dBtn(\n",
    "    model=mt_model, \n",
    "    sconc=0.0, \n",
    "    prsity=0.3, \n",
    "    thkmin=0.01, \n",
    "    munit='g', \n",
    "    icbund=icbund\n",
    ")"
   ]
  },
  {
   "cell_type": "code",
   "execution_count": 18,
   "metadata": {},
   "outputs": [
    {
     "ename": "AttributeError",
     "evalue": "'ModflowGwfdis' object has no attribute 'nper'",
     "output_type": "error",
     "traceback": [
      "\u001b[0;31m---------------------------------------------------------------------------\u001b[0m",
      "\u001b[0;31mAttributeError\u001b[0m                            Traceback (most recent call last)",
      "\u001b[0;32m<ipython-input-18-4e713c67edf9>\u001b[0m in \u001b[0;36m<module>\u001b[0;34m\u001b[0m\n\u001b[1;32m     24\u001b[0m     \u001b[0mthkmin\u001b[0m\u001b[0;34m=\u001b[0m\u001b[0;36m0.01\u001b[0m\u001b[0;34m,\u001b[0m\u001b[0;34m\u001b[0m\u001b[0;34m\u001b[0m\u001b[0m\n\u001b[1;32m     25\u001b[0m     \u001b[0mmunit\u001b[0m\u001b[0;34m=\u001b[0m\u001b[0;34m'g'\u001b[0m\u001b[0;34m,\u001b[0m\u001b[0;34m\u001b[0m\u001b[0;34m\u001b[0m\u001b[0m\n\u001b[0;32m---> 26\u001b[0;31m     \u001b[0micbund\u001b[0m\u001b[0;34m=\u001b[0m\u001b[0micbund\u001b[0m\u001b[0;34m\u001b[0m\u001b[0;34m\u001b[0m\u001b[0m\n\u001b[0m\u001b[1;32m     27\u001b[0m )\n",
      "\u001b[0;32m~/miniconda3/lib/python3.7/site-packages/flopy/mt3d/mtbtn.py\u001b[0m in \u001b[0;36m__init__\u001b[0;34m(self, model, MFStyleArr, DRYCell, Legacy99Stor, FTLPrint, NoWetDryPrint, OmitDryBud, AltWTSorb, nlay, nrow, ncol, nper, ncomp, mcomp, tunit, lunit, munit, laycon, delr, delc, htop, dz, prsity, icbund, sconc, cinact, thkmin, ifmtcn, ifmtnp, ifmtrf, ifmtdp, savucn, nprs, timprs, obs, nprobs, chkmas, nprmas, perlen, nstp, tsmult, ssflag, dt0, mxstrn, ttsmult, ttsmax, species_names, extension, unitnumber, filenames, **kwargs)\u001b[0m\n\u001b[1;32m    218\u001b[0m         \u001b[0;31m# they are specified in the constructor.\u001b[0m\u001b[0;34m\u001b[0m\u001b[0;34m\u001b[0m\u001b[0;34m\u001b[0m\u001b[0m\n\u001b[1;32m    219\u001b[0m         self.setmodflowvars(nlay, nrow, ncol, nper, laycon, delr, delc, htop,\n\u001b[0;32m--> 220\u001b[0;31m                             dz, perlen, nstp, tsmult)\n\u001b[0m\u001b[1;32m    221\u001b[0m \u001b[0;34m\u001b[0m\u001b[0m\n\u001b[1;32m    222\u001b[0m         \u001b[0;31m# Make the rest of the assignments\u001b[0m\u001b[0;34m\u001b[0m\u001b[0;34m\u001b[0m\u001b[0;34m\u001b[0m\u001b[0m\n",
      "\u001b[0;32m~/miniconda3/lib/python3.7/site-packages/flopy/mt3d/mtbtn.py\u001b[0m in \u001b[0;36msetmodflowvars\u001b[0;34m(self, nlay, nrow, ncol, nper, laycon, delr, delc, htop, dz, perlen, nstp, tsmult)\u001b[0m\n\u001b[1;32m    354\u001b[0m             \u001b[0mself\u001b[0m\u001b[0;34m.\u001b[0m\u001b[0mnper\u001b[0m \u001b[0;34m=\u001b[0m \u001b[0mnper\u001b[0m\u001b[0;34m\u001b[0m\u001b[0;34m\u001b[0m\u001b[0m\n\u001b[1;32m    355\u001b[0m         \u001b[0;32melse\u001b[0m\u001b[0;34m:\u001b[0m\u001b[0;34m\u001b[0m\u001b[0;34m\u001b[0m\u001b[0m\n\u001b[0;32m--> 356\u001b[0;31m             \u001b[0mself\u001b[0m\u001b[0;34m.\u001b[0m\u001b[0mnper\u001b[0m \u001b[0;34m=\u001b[0m \u001b[0mmf\u001b[0m\u001b[0;34m.\u001b[0m\u001b[0mdis\u001b[0m\u001b[0;34m.\u001b[0m\u001b[0mnper\u001b[0m\u001b[0;34m\u001b[0m\u001b[0;34m\u001b[0m\u001b[0m\n\u001b[0m\u001b[1;32m    357\u001b[0m \u001b[0;34m\u001b[0m\u001b[0m\n\u001b[1;32m    358\u001b[0m         \u001b[0mnlay\u001b[0m \u001b[0;34m=\u001b[0m \u001b[0mself\u001b[0m\u001b[0;34m.\u001b[0m\u001b[0mnlay\u001b[0m\u001b[0;34m\u001b[0m\u001b[0;34m\u001b[0m\u001b[0m\n",
      "\u001b[0;31mAttributeError\u001b[0m: 'ModflowGwfdis' object has no attribute 'nper'"
     ]
    }
   ],
   "source": [
    "## Trial 2\n",
    "# name\n",
    "name_mt3d = 'mt-hatari'\n",
    "\n",
    "# exe name\n",
    "exe_name = r'/Users/mattijnvanhoek/modflow6/bin/mt3dusgs'\n",
    "\n",
    "#MT3D-USGS\n",
    "mt_model = flopy.mt3d.Mt3dms(\n",
    "    modelname=name_mt3d,\n",
    "    version='mt3d-usgs',\n",
    "    exe_name=exe_name,\n",
    "    modflowmodel=gwf  # <--- changed from sim into gwf\n",
    ")\n",
    "\n",
    "#BTN file\n",
    "icbund = idomain.copy()\n",
    "icbund[0, 15, 15] = -1 #constant concentration\n",
    "\n",
    "btn = flopy.mt3d.Mt3dBtn(\n",
    "    model=mt_model, \n",
    "    sconc=0.0, \n",
    "    prsity=0.3, \n",
    "    thkmin=0.01, \n",
    "    munit='g', \n",
    "    icbund=icbund\n",
    ")"
   ]
  },
  {
   "cell_type": "code",
   "execution_count": 19,
   "metadata": {},
   "outputs": [
    {
     "data": {
      "text/plain": [
       "{internal}\n",
       "(1)"
      ]
     },
     "execution_count": 19,
     "metadata": {},
     "output_type": "execute_result"
    }
   ],
   "source": [
    "## Trial 3\n",
    "tdis.nper  # time discretization package contains a nper attr"
   ]
  },
  {
   "cell_type": "code",
   "execution_count": 20,
   "metadata": {},
   "outputs": [
    {
     "ename": "AttributeError",
     "evalue": "'MFArray' object has no attribute 'get_value'",
     "output_type": "error",
     "traceback": [
      "\u001b[0;31m---------------------------------------------------------------------------\u001b[0m",
      "\u001b[0;31mAttributeError\u001b[0m                            Traceback (most recent call last)",
      "\u001b[0;32m<ipython-input-20-9e2899bfa9bd>\u001b[0m in \u001b[0;36m<module>\u001b[0;34m\u001b[0m\n\u001b[1;32m     24\u001b[0m     \u001b[0mmunit\u001b[0m\u001b[0;34m=\u001b[0m\u001b[0;34m'g'\u001b[0m\u001b[0;34m,\u001b[0m\u001b[0;34m\u001b[0m\u001b[0;34m\u001b[0m\u001b[0m\n\u001b[1;32m     25\u001b[0m     \u001b[0micbund\u001b[0m\u001b[0;34m=\u001b[0m\u001b[0micbund\u001b[0m\u001b[0;34m,\u001b[0m\u001b[0;34m\u001b[0m\u001b[0;34m\u001b[0m\u001b[0m\n\u001b[0;32m---> 26\u001b[0;31m     \u001b[0mnper\u001b[0m\u001b[0;34m=\u001b[0m\u001b[0mtdis\u001b[0m\u001b[0;34m.\u001b[0m\u001b[0mnper\u001b[0m  \u001b[0;31m# <--- from the time discretization package\u001b[0m\u001b[0;34m\u001b[0m\u001b[0;34m\u001b[0m\u001b[0m\n\u001b[0m\u001b[1;32m     27\u001b[0m )\n",
      "\u001b[0;32m~/miniconda3/lib/python3.7/site-packages/flopy/mt3d/mtbtn.py\u001b[0m in \u001b[0;36m__init__\u001b[0;34m(self, model, MFStyleArr, DRYCell, Legacy99Stor, FTLPrint, NoWetDryPrint, OmitDryBud, AltWTSorb, nlay, nrow, ncol, nper, ncomp, mcomp, tunit, lunit, munit, laycon, delr, delc, htop, dz, prsity, icbund, sconc, cinact, thkmin, ifmtcn, ifmtnp, ifmtrf, ifmtdp, savucn, nprs, timprs, obs, nprobs, chkmas, nprmas, perlen, nstp, tsmult, ssflag, dt0, mxstrn, ttsmult, ttsmax, species_names, extension, unitnumber, filenames, **kwargs)\u001b[0m\n\u001b[1;32m    218\u001b[0m         \u001b[0;31m# they are specified in the constructor.\u001b[0m\u001b[0;34m\u001b[0m\u001b[0;34m\u001b[0m\u001b[0;34m\u001b[0m\u001b[0m\n\u001b[1;32m    219\u001b[0m         self.setmodflowvars(nlay, nrow, ncol, nper, laycon, delr, delc, htop,\n\u001b[0;32m--> 220\u001b[0;31m                             dz, perlen, nstp, tsmult)\n\u001b[0m\u001b[1;32m    221\u001b[0m \u001b[0;34m\u001b[0m\u001b[0m\n\u001b[1;32m    222\u001b[0m         \u001b[0;31m# Make the rest of the assignments\u001b[0m\u001b[0;34m\u001b[0m\u001b[0;34m\u001b[0m\u001b[0;34m\u001b[0m\u001b[0m\n",
      "\u001b[0;32m~/miniconda3/lib/python3.7/site-packages/flopy/mt3d/mtbtn.py\u001b[0m in \u001b[0;36msetmodflowvars\u001b[0;34m(self, nlay, nrow, ncol, nper, laycon, delr, delc, htop, dz, perlen, nstp, tsmult)\u001b[0m\n\u001b[1;32m    368\u001b[0m         \u001b[0;32melse\u001b[0m\u001b[0;34m:\u001b[0m\u001b[0;34m\u001b[0m\u001b[0;34m\u001b[0m\u001b[0m\n\u001b[1;32m    369\u001b[0m             self.delr = Util2d(self.parent, (ncol,), np.float32,\n\u001b[0;32m--> 370\u001b[0;31m                                \u001b[0mmf\u001b[0m\u001b[0;34m.\u001b[0m\u001b[0mdis\u001b[0m\u001b[0;34m.\u001b[0m\u001b[0mdelr\u001b[0m\u001b[0;34m.\u001b[0m\u001b[0mget_value\u001b[0m\u001b[0;34m(\u001b[0m\u001b[0;34m)\u001b[0m\u001b[0;34m,\u001b[0m\u001b[0;34m\u001b[0m\u001b[0;34m\u001b[0m\u001b[0m\n\u001b[0m\u001b[1;32m    371\u001b[0m                                \u001b[0mname\u001b[0m\u001b[0;34m=\u001b[0m\u001b[0;34m'delr'\u001b[0m\u001b[0;34m,\u001b[0m\u001b[0;34m\u001b[0m\u001b[0;34m\u001b[0m\u001b[0m\n\u001b[1;32m    372\u001b[0m                                \u001b[0mlocat\u001b[0m\u001b[0;34m=\u001b[0m\u001b[0mself\u001b[0m\u001b[0;34m.\u001b[0m\u001b[0munit_number\u001b[0m\u001b[0;34m[\u001b[0m\u001b[0;36m0\u001b[0m\u001b[0;34m]\u001b[0m\u001b[0;34m,\u001b[0m\u001b[0;34m\u001b[0m\u001b[0;34m\u001b[0m\u001b[0m\n",
      "\u001b[0;31mAttributeError\u001b[0m: 'MFArray' object has no attribute 'get_value'"
     ]
    }
   ],
   "source": [
    "# name\n",
    "name_mt3d = 'mt-hatari'\n",
    "\n",
    "# exe name\n",
    "exe_name = r'/Users/mattijnvanhoek/modflow6/bin/mt3dusgs'\n",
    "\n",
    "#MT3D-USGS\n",
    "mt_model = flopy.mt3d.Mt3dms(\n",
    "    modelname=name_mt3d,\n",
    "    version='mt3d-usgs',\n",
    "    exe_name=exe_name,\n",
    "    modflowmodel=gwf  # <--- changed from sim into gwf\n",
    ")\n",
    "\n",
    "#BTN file\n",
    "icbund = idomain.copy()\n",
    "icbund[0, 15, 15] = -1 #constant concentration\n",
    "\n",
    "btn = flopy.mt3d.Mt3dBtn(\n",
    "    model=mt_model, \n",
    "    sconc=0.0, \n",
    "    prsity=0.3, \n",
    "    thkmin=0.01, \n",
    "    munit='g', \n",
    "    icbund=icbund,\n",
    "    nper=tdis.nper  # <--- from the time discretization package\n",
    ")"
   ]
  },
  {
   "cell_type": "code",
   "execution_count": 21,
   "metadata": {},
   "outputs": [
    {
     "ename": "AttributeError",
     "evalue": "'MFArray' object has no attribute 'get_value'",
     "output_type": "error",
     "traceback": [
      "\u001b[0;31m---------------------------------------------------------------------------\u001b[0m",
      "\u001b[0;31mAttributeError\u001b[0m                            Traceback (most recent call last)",
      "\u001b[0;32m<ipython-input-21-bc45a0b6e600>\u001b[0m in \u001b[0;36m<module>\u001b[0;34m\u001b[0m\n\u001b[0;32m----> 1\u001b[0;31m \u001b[0mgwf\u001b[0m\u001b[0;34m.\u001b[0m\u001b[0mdis\u001b[0m\u001b[0;34m.\u001b[0m\u001b[0mdelr\u001b[0m\u001b[0;34m.\u001b[0m\u001b[0mget_value\u001b[0m\u001b[0;34m(\u001b[0m\u001b[0;34m)\u001b[0m\u001b[0;34m\u001b[0m\u001b[0;34m\u001b[0m\u001b[0m\n\u001b[0m",
      "\u001b[0;31mAttributeError\u001b[0m: 'MFArray' object has no attribute 'get_value'"
     ]
    }
   ],
   "source": [
    "gwf.dis.delr.get_value()"
   ]
  },
  {
   "cell_type": "code",
   "execution_count": 22,
   "metadata": {},
   "outputs": [
    {
     "data": {
      "text/plain": [
       "array([10., 10., 10., 10., 10., 10., 10., 10., 10., 10., 10., 10., 10.,\n",
       "       10., 10., 10., 10., 10., 10., 10., 10., 10., 10., 10., 10., 10.,\n",
       "       10., 10., 10., 10., 10.])"
      ]
     },
     "execution_count": 22,
     "metadata": {},
     "output_type": "execute_result"
    }
   ],
   "source": [
    "gwf.dis.delr.get_data()"
   ]
  },
  {
   "cell_type": "code",
   "execution_count": null,
   "metadata": {},
   "outputs": [],
   "source": [
    "# # advaction package\n",
    "# adv = flopy.mt3d.Mt3dAdv(mt, mixelm=-1, percel=0.75)\n",
    "# # dispersion package\n",
    "# dsp = flopy.mt3d.Mt3dDsp(mt, al=10.0, trpt=0.1, trpv=0.1, dmcoef=1e-09)\n",
    "\n",
    "# # source/sink package\n",
    "# ssm_data = {}\n",
    "# itype = flopy.mt3d.Mt3dSsm.itype_dict()\n",
    "# ssm_data[0] = [(0, wrow, wcol, 10.0, itype['WEL'])]\n",
    "\n",
    "# ssm = flopy.mt3d.Mt3dSsm(mt, stress_period_data=ssm_data)\n",
    "\n",
    "# # matrix solver package\n",
    "# gcg = flopy.mt3d.Mt3dGcg(mt, cclose=1e-6)\n",
    "\n",
    "# # write mt3dms input\n",
    "# mt.write_input()\n",
    "# # run mt3dms\n",
    "# mt.run_model()\n",
    "\n",
    "# # post-processing and plotting\n",
    "# # plot flow\n",
    "# import matplotlib.pyplot as plt\n",
    "# import flopy.utils.binaryfile as bf\n",
    "# fig = plt.figure(figsize=(10,10))\n",
    "# ax = fig.add_subplot(1, 1, 1, aspect='equal')\n",
    "\n",
    "# wpt = ((wcol+0.5)*delr, Lx - ((wrow + 0.5)*delc)) # origin at low upper..\n",
    "# hds = bf.HeadFile(modelname+'.hds')\n",
    "# times = hds.get_times() # simulation time, steady state\n",
    "# head = hds.get_data(totim=times[-1])\n",
    "\n",
    "# cbb = bf.CellBudgetFile(modelname+'.cbc') # read budget file\n",
    "# frf = cbb.get_data(text='FLOW RIGHT FACE', totim=times[-1])[0]\n",
    "# fff = cbb.get_data(text='FLOW FRONT FACE', totim=times[-1])[0]\n",
    "\n",
    "# # create flopy plot object, plot grid and contour\n",
    "# modelmap = flopy.plot.ModelMap(model=mf, layer=0)\n",
    "# lc = modelmap.plot_grid() # grid\n",
    "# cs = modelmap.contour_array(head, levels=np.linspace(head.min(), head.max(), 21)) # head contour\n",
    "# plt.clabel(cs, fontsize=20, fmt='%1.1f', zorder=1) # contour label\n",
    "# quiver = modelmap.plot_discharge(frf, fff, head=head) # quiver\n",
    "# plt.plot(wpt[0],wpt[1],'ro') # well location\n",
    "# plt.show()\n",
    "\n",
    "# # plot conc\n",
    "# ucnobj = bf.UcnFile('MT3D001.UCN')\n",
    "# #print(ucnobj.list_records()) # get values\n",
    "\n",
    "# times = ucnobj.get_times() # simulation time\n",
    "# times1 = times[round(len(times)/4.)] # 1/4 simulation time\n",
    "# times2 = times[round(len(times)/2.)] # 1/2 simulation time\n",
    "# times3 = times[-1] # the last simulation time\n",
    "\n",
    "# conc1 = ucnobj.get_data(totim=times1)\n",
    "# conc2 = ucnobj.get_data(totim=times2)\n",
    "# conc3 = ucnobj.get_data(totim=times3)\n",
    "\n",
    "\n",
    "# # conc 100 day\n",
    "# fig = plt.figure(figsize=(10,10))\n",
    "# ax = fig.add_subplot(1, 1, 1, aspect='equal')\n",
    "# modelmap = flopy.plot.ModelMap(model=mf, layer=0)\n",
    "# lc = modelmap.plot_grid() # grid\n",
    "# cs = modelmap.plot_array(conc1) # head contour\n",
    "# plt.colorbar(cs) # colrobar\n",
    "# plt.plot(wpt[0],wpt[1],'ro')\n",
    "# plt.title('C  %g day' % times1)\n",
    "# plt.show()\n",
    "\n",
    "# # conc in 500 days\n",
    "# fig = plt.figure(figsize=(10,10))\n",
    "# ax = fig.add_subplot(1, 1, 1, aspect='equal')\n",
    "# modelmap = flopy.plot.ModelMap(model=mf, layer=0)\n",
    "# lc = modelmap.plot_grid() # grid\n",
    "# cs = modelmap.plot_array(conc2) # head contour\n",
    "# plt.colorbar(cs) # colrobar\n",
    "# plt.plot(wpt[0],wpt[1],'ro')\n",
    "# plt.title('C  %g day' % times2)\n",
    "# plt.show()\n",
    "\n",
    "\n",
    "# # conc in 1000 days\n",
    "# fig = plt.figure(figsize=(10,10))\n",
    "# ax = fig.add_subplot(1, 1, 1, aspect='equal')\n",
    "# modelmap = flopy.plot.ModelMap(model=mf, layer=0)\n",
    "# lc = modelmap.plot_grid() # grid\n",
    "# cs = modelmap.plot_array(conc3) # head contour\n",
    "# plt.colorbar(cs) # colrobar\n",
    "# plt.plot(wpt[0],wpt[1],'ro')\n",
    "# plt.title('C  %g day' % times3)\n",
    "# plt.show()\n",
    "\n"
   ]
  }
 ],
 "metadata": {
  "kernelspec": {
   "display_name": "Python 3",
   "language": "python",
   "name": "python3"
  },
  "language_info": {
   "codemirror_mode": {
    "name": "ipython",
    "version": 3
   },
   "file_extension": ".py",
   "mimetype": "text/x-python",
   "name": "python",
   "nbconvert_exporter": "python",
   "pygments_lexer": "ipython3",
   "version": "3.7.3"
  }
 },
 "nbformat": 4,
 "nbformat_minor": 4
}
