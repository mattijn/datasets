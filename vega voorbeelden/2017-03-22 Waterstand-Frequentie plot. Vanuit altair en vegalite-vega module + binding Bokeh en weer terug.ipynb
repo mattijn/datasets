{
 "cells": [
  {
   "cell_type": "code",
   "execution_count": 1,
   "metadata": {
    "collapsed": true
   },
   "outputs": [],
   "source": [
    "import pandas as pd"
   ]
  },
  {
   "cell_type": "code",
   "execution_count": 2,
   "metadata": {
    "collapsed": true
   },
   "outputs": [],
   "source": [
    "path_in =r'D:\\Projects\\Pr\\3556.10\\hfreq.txt'"
   ]
  },
  {
   "cell_type": "markdown",
   "metadata": {},
   "source": [
    "Eerst lezen we het bestand in met pandas"
   ]
  },
  {
   "cell_type": "code",
   "execution_count": 3,
   "metadata": {
    "collapsed": false
   },
   "outputs": [],
   "source": [
    "df = pd.read_csv(path_in, delim_whitespace=True, skiprows=1, header=None, )\n",
    "df.columns = ['waterstand','frequentie']"
   ]
  },
  {
   "cell_type": "code",
   "execution_count": 4,
   "metadata": {
    "collapsed": false
   },
   "outputs": [
    {
     "data": {
      "text/html": [
       "<div>\n",
       "<table border=\"1\" class=\"dataframe\">\n",
       "  <thead>\n",
       "    <tr style=\"text-align: right;\">\n",
       "      <th></th>\n",
       "      <th>waterstand</th>\n",
       "      <th>frequentie</th>\n",
       "    </tr>\n",
       "  </thead>\n",
       "  <tbody>\n",
       "    <tr>\n",
       "      <th>0</th>\n",
       "      <td>15.2</td>\n",
       "      <td>0.113170</td>\n",
       "    </tr>\n",
       "    <tr>\n",
       "      <th>1</th>\n",
       "      <td>15.3</td>\n",
       "      <td>0.100565</td>\n",
       "    </tr>\n",
       "    <tr>\n",
       "      <th>2</th>\n",
       "      <td>15.4</td>\n",
       "      <td>0.087885</td>\n",
       "    </tr>\n",
       "    <tr>\n",
       "      <th>3</th>\n",
       "      <td>15.5</td>\n",
       "      <td>0.077290</td>\n",
       "    </tr>\n",
       "    <tr>\n",
       "      <th>4</th>\n",
       "      <td>15.6</td>\n",
       "      <td>0.067216</td>\n",
       "    </tr>\n",
       "  </tbody>\n",
       "</table>\n",
       "</div>"
      ],
      "text/plain": [
       "   waterstand  frequentie\n",
       "0        15.2    0.113170\n",
       "1        15.3    0.100565\n",
       "2        15.4    0.087885\n",
       "3        15.5    0.077290\n",
       "4        15.6    0.067216"
      ]
     },
     "execution_count": 4,
     "metadata": {},
     "output_type": "execute_result"
    }
   ],
   "source": [
    "df.head()"
   ]
  },
  {
   "cell_type": "markdown",
   "metadata": {},
   "source": [
    "Eerst kijken of we het kunnen plotten met de Altair module, zie voor voorbeelden: https://github.com/jakevdp/altair-examples. De module is gebasseerd op een Vega-Lite JSON object, waarbij sommige elementen voor ingevuld worden op basis van de data. Je datatype, aangegeven met `:Q` (quantitative) zou je weg kunnen laten bijvoorbeeld"
   ]
  },
  {
   "cell_type": "code",
   "execution_count": 5,
   "metadata": {
    "collapsed": true
   },
   "outputs": [],
   "source": [
    "from altair import *"
   ]
  },
  {
   "cell_type": "code",
   "execution_count": 6,
   "metadata": {
    "collapsed": false
   },
   "outputs": [
    {
     "data": {
      "text/html": [
       "<div class=\"vega-embed\" id=\"f025d980-7e89-4335-b65c-516c60000f39\"></div>\n",
       "\n",
       "<style>\n",
       ".vega-embed svg, .vega-embed canvas {\n",
       "  border: 1px dotted gray;\n",
       "}\n",
       "\n",
       ".vega-embed .vega-actions a {\n",
       "  margin-right: 6px;\n",
       "}\n",
       "</style>\n"
      ]
     },
     "metadata": {
      "jupyter-vega": "#f025d980-7e89-4335-b65c-516c60000f39"
     },
     "output_type": "display_data"
    },
    {
     "data": {
      "application/javascript": [
       "var spec = {\"config\": {\"cell\": {\"height\": 350, \"width\": 500}}, \"encoding\": {\"y\": {\"type\": \"quantitative\", \"field\": \"waterstand\", \"scale\": {\"domain\": [14.0, 19.0]}}, \"x\": {\"type\": \"quantitative\", \"field\": \"frequentie\", \"scale\": {\"domain\": [0.1, 1e-07], \"type\": \"log\"}}, \"color\": {\"value\": \"#000\"}}, \"data\": {\"values\": [{\"waterstand\": 15.2, \"frequentie\": 0.1131702}, {\"waterstand\": 15.3, \"frequentie\": 0.1005654}, {\"waterstand\": 15.4, \"frequentie\": 0.087884739}, {\"waterstand\": 15.5, \"frequentie\": 0.07728956599999999}, {\"waterstand\": 15.6, \"frequentie\": 0.067216396}, {\"waterstand\": 15.7, \"frequentie\": 0.057845965}, {\"waterstand\": 15.8, \"frequentie\": 0.049733865999999995}, {\"waterstand\": 15.9, \"frequentie\": 0.041748479}, {\"waterstand\": 16.0, \"frequentie\": 0.034775663}, {\"waterstand\": 16.1, \"frequentie\": 0.029016647000000003}, {\"waterstand\": 16.2, \"frequentie\": 0.024304695}, {\"waterstand\": 16.3, \"frequentie\": 0.020148421}, {\"waterstand\": 16.4, \"frequentie\": 0.016645148000000002}, {\"waterstand\": 16.5, \"frequentie\": 0.013650425}, {\"waterstand\": 16.6, \"frequentie\": 0.011218123}, {\"waterstand\": 16.7, \"frequentie\": 0.0089963209}, {\"waterstand\": 16.8, \"frequentie\": 0.0069746193}, {\"waterstand\": 16.9, \"frequentie\": 0.0052340645}, {\"waterstand\": 17.0, \"frequentie\": 0.0037789331}, {\"waterstand\": 17.1, \"frequentie\": 0.0026245182000000002}, {\"waterstand\": 17.2, \"frequentie\": 0.0017343683}, {\"waterstand\": 17.3, \"frequentie\": 0.0011132542999999998}, {\"waterstand\": 17.4, \"frequentie\": 0.00069478055}, {\"waterstand\": 17.5, \"frequentie\": 0.00041740347}, {\"waterstand\": 17.6, \"frequentie\": 0.00024611963}, {\"waterstand\": 17.7, \"frequentie\": 0.00014169683}, {\"waterstand\": 17.8, \"frequentie\": 8.2026672e-05}, {\"waterstand\": 17.9, \"frequentie\": 4.6522305999999996e-05}, {\"waterstand\": 18.0, \"frequentie\": 2.8103053e-05}, {\"waterstand\": 18.1, \"frequentie\": 1.7673468000000002e-05}, {\"waterstand\": 18.2, \"frequentie\": 1.0981082e-05}, {\"waterstand\": 18.3, \"frequentie\": 6.8735044e-06}]}, \"mark\": \"line\"};\n",
       "var selector = \"#f025d980-7e89-4335-b65c-516c60000f39\";\n",
       "var type = \"vega-lite\";\n",
       "\n",
       "var output_area = this;\n",
       "require(['nbextensions/jupyter-vega/index'], function(vega) {\n",
       "  vega.render(selector, spec, type, output_area);\n",
       "}, function (err) {\n",
       "  if (err.requireType !== 'scripterror') {\n",
       "    throw(err);\n",
       "  }\n",
       "});\n"
      ]
     },
     "metadata": {
      "jupyter-vega": "#f025d980-7e89-4335-b65c-516c60000f39"
     },
     "output_type": "display_data"
    },
    {
     "data": {
      "image/png": "[encoded data removed]"
     },
     "metadata": {
      "jupyter-vega": "#f025d980-7e89-4335-b65c-516c60000f39"
     },
     "output_type": "display_data"
    }
   ],
   "source": [
    "Chart(df).mark_line().encode(\n",
    "    Y('waterstand',scale=Scale(domain=[14,19])),\n",
    "    X('frequentie',scale=Scale(type='log', domain=[0.1,1e-7])),\n",
    "    Color(value=\"#000\")    \n",
    ")"
   ]
  },
  {
   "cell_type": "markdown",
   "metadata": {},
   "source": [
    "OK, dat lukt. Altair is een versimpelling van het Vega-Lite JSON object. Maar vanuit Jupyer kan je ook in een keer een VegaLite object kunnen aanmaken. De beschrijving van je grafiek wordt wel iets groter, maar het verduidelijkt dingen misschien wat meer"
   ]
  },
  {
   "cell_type": "code",
   "execution_count": 7,
   "metadata": {
    "collapsed": true
   },
   "outputs": [],
   "source": [
    "from vega import VegaLite"
   ]
  },
  {
   "cell_type": "code",
   "execution_count": 8,
   "metadata": {
    "collapsed": false
   },
   "outputs": [
    {
     "data": {
      "text/html": [
       "<div class=\"vega-embed\" id=\"63e61fca-b984-4fdb-a3d4-a746b9885d45\"></div>\n",
       "\n",
       "<style>\n",
       ".vega-embed svg, .vega-embed canvas {\n",
       "  border: 1px dotted gray;\n",
       "}\n",
       "\n",
       ".vega-embed .vega-actions a {\n",
       "  margin-right: 6px;\n",
       "}\n",
       "</style>\n"
      ]
     },
     "metadata": {
      "jupyter-vega": "#63e61fca-b984-4fdb-a3d4-a746b9885d45"
     },
     "output_type": "display_data"
    },
    {
     "data": {
      "application/javascript": [
       "var spec = {\"encoding\": {\"y\": {\"type\": \"quantitative\", \"field\": \"waterstand\", \"scale\": {\"domain\": [14, 19]}}, \"x\": {\"type\": \"quantitative\", \"field\": \"frequentie\", \"scale\": {\"domain\": [0.1, 1e-07], \"type\": \"log\"}}, \"color\": {\"value\": \"#000\"}}, \"mark\": \"line\", \"config\": {\"cell\": {\"height\": 350, \"width\": 500}}, \"height\": 400, \"width\": 400, \"data\": {\"values\": [{\"waterstand\": 15.2, \"frequentie\": 0.1131702}, {\"waterstand\": 15.3, \"frequentie\": 0.1005654}, {\"waterstand\": 15.4, \"frequentie\": 0.087884739}, {\"waterstand\": 15.5, \"frequentie\": 0.07728956599999999}, {\"waterstand\": 15.6, \"frequentie\": 0.067216396}, {\"waterstand\": 15.7, \"frequentie\": 0.057845965}, {\"waterstand\": 15.8, \"frequentie\": 0.049733865999999995}, {\"waterstand\": 15.9, \"frequentie\": 0.041748479}, {\"waterstand\": 16.0, \"frequentie\": 0.034775663}, {\"waterstand\": 16.1, \"frequentie\": 0.029016647000000003}, {\"waterstand\": 16.2, \"frequentie\": 0.024304695}, {\"waterstand\": 16.3, \"frequentie\": 0.020148421}, {\"waterstand\": 16.4, \"frequentie\": 0.016645148000000002}, {\"waterstand\": 16.5, \"frequentie\": 0.013650425}, {\"waterstand\": 16.6, \"frequentie\": 0.011218123}, {\"waterstand\": 16.7, \"frequentie\": 0.0089963209}, {\"waterstand\": 16.8, \"frequentie\": 0.0069746193}, {\"waterstand\": 16.9, \"frequentie\": 0.0052340645}, {\"waterstand\": 17.0, \"frequentie\": 0.0037789331}, {\"waterstand\": 17.1, \"frequentie\": 0.0026245182000000002}, {\"waterstand\": 17.2, \"frequentie\": 0.0017343683}, {\"waterstand\": 17.3, \"frequentie\": 0.0011132542999999998}, {\"waterstand\": 17.4, \"frequentie\": 0.00069478055}, {\"waterstand\": 17.5, \"frequentie\": 0.00041740347}, {\"waterstand\": 17.6, \"frequentie\": 0.00024611963}, {\"waterstand\": 17.7, \"frequentie\": 0.00014169683}, {\"waterstand\": 17.8, \"frequentie\": 8.2026672e-05}, {\"waterstand\": 17.9, \"frequentie\": 4.6522305999999996e-05}, {\"waterstand\": 18.0, \"frequentie\": 2.8103053e-05}, {\"waterstand\": 18.1, \"frequentie\": 1.7673468000000002e-05}, {\"waterstand\": 18.2, \"frequentie\": 1.0981082e-05}, {\"waterstand\": 18.3, \"frequentie\": 6.8735044e-06}]}};\n",
       "var selector = \"#63e61fca-b984-4fdb-a3d4-a746b9885d45\";\n",
       "var type = \"vega-lite\";\n",
       "\n",
       "var output_area = this;\n",
       "require(['nbextensions/jupyter-vega/index'], function(vega) {\n",
       "  vega.render(selector, spec, type, output_area);\n",
       "}, function (err) {\n",
       "  if (err.requireType !== 'scripterror') {\n",
       "    throw(err);\n",
       "  }\n",
       "});\n"
      ]
     },
     "metadata": {
      "jupyter-vega": "#63e61fca-b984-4fdb-a3d4-a746b9885d45"
     },
     "output_type": "display_data"
    },
    {
     "data": {
      "image/png": "[encoded data removed]"
     },
     "metadata": {
      "jupyter-vega": "#63e61fca-b984-4fdb-a3d4-a746b9885d45"
     },
     "output_type": "display_data"
    }
   ],
   "source": [
    "VegaLite({\n",
    "  \"width\": 400,\n",
    "  \"height\": 400,\n",
    "  \"mark\": \"line\",\n",
    "  \"encoding\": {\n",
    "    \"x\": {\n",
    "      \"field\": \"frequentie\",\n",
    "      \"type\": \"quantitative\",      \n",
    "      \"scale\": {\n",
    "        \"domain\": [0.1,1e-7],\n",
    "        \"type\": \"log\"\n",
    "      }\n",
    "\n",
    "    },\n",
    "    \"y\": {\n",
    "      \"field\": \"waterstand\",\n",
    "      \"type\": \"quantitative\",\n",
    "      \"scale\": {\"domain\":[14,19]}\n",
    "    },\n",
    "    \"color\": {\"value\": \"#000\"}\n",
    "  }\n",
    "}, df)"
   ]
  },
  {
   "cell_type": "markdown",
   "metadata": {},
   "source": [
    "Zoals de naam Vega-Lite al zegt, is het een lite versie van Vega. De grafiek wordt gemaakt op basis van een aantal aannames. Wanneer je alle controle wilt hebben over de grafiek vanuit het bron-bron JSON object, ga dan uit van je Vega JSON object."
   ]
  },
  {
   "cell_type": "code",
   "execution_count": 9,
   "metadata": {
    "collapsed": true
   },
   "outputs": [],
   "source": [
    "from vega import Vega"
   ]
  },
  {
   "cell_type": "code",
   "execution_count": 10,
   "metadata": {
    "collapsed": false
   },
   "outputs": [
    {
     "data": {
      "text/html": [
       "<div class=\"vega-embed\" id=\"0b463f76-46c0-4bf3-9459-be6647dd969b\"></div>\n",
       "\n",
       "<style>\n",
       ".vega-embed svg, .vega-embed canvas {\n",
       "  border: 1px dotted gray;\n",
       "}\n",
       "\n",
       ".vega-embed .vega-actions a {\n",
       "  margin-right: 6px;\n",
       "}\n",
       "</style>\n"
      ]
     },
     "metadata": {
      "jupyter-vega": "#0b463f76-46c0-4bf3-9459-be6647dd969b"
     },
     "output_type": "display_data"
    },
    {
     "data": {
      "application/javascript": [
       "var spec = {\"marks\": [{\"name\": \"root\", \"properties\": {\"update\": {\"height\": {\"field\": \"height\"}, \"width\": {\"field\": \"width\"}}}, \"from\": {\"data\": \"layout\"}, \"type\": \"group\", \"marks\": [{\"name\": \"marks\", \"type\": \"line\", \"properties\": {\"update\": {\"y\": {\"field\": \"waterstand\", \"scale\": \"y\"}, \"x\": {\"field\": \"frequentie\", \"scale\": \"x\"}, \"strokeWidth\": {\"value\": 2}, \"stroke\": {\"value\": \"#4682b4\"}}}, \"from\": {\"transform\": [{\"type\": \"sort\", \"by\": \"-frequentie\"}], \"data\": \"source\"}}], \"axes\": [{\"format\": \"s\", \"scale\": \"x\", \"grid\": true, \"type\": \"x\", \"layer\": \"back\", \"title\": \"frequentie\", \"ticks\": 5}, {\"format\": \"s\", \"scale\": \"y\", \"grid\": true, \"type\": \"y\", \"layer\": \"back\", \"title\": \"waterstand\"}], \"scales\": [{\"name\": \"x\", \"domain\": [0.1, 1e-07], \"round\": true, \"rangeMin\": 0, \"type\": \"log\", \"rangeMax\": 500, \"zero\": false, \"nice\": true}, {\"name\": \"y\", \"domain\": [14, 19], \"round\": true, \"rangeMin\": 350, \"type\": \"linear\", \"rangeMax\": 0, \"zero\": false, \"nice\": true}]}], \"height\": 1, \"padding\": \"auto\", \"width\": 1, \"data\": [{\"name\": \"source\", \"format\": {\"type\": \"json\", \"parse\": {\"waterstand\": \"number\", \"frequentie\": \"number\"}}, \"transform\": [{\"type\": \"filter\", \"test\": \"datum[\\\"frequentie\\\"] !== null && !isNaN(datum[\\\"frequentie\\\"]) && datum[\\\"waterstand\\\"] !== null && !isNaN(datum[\\\"waterstand\\\"])\"}, {\"type\": \"filter\", \"test\": \"datum[\\\"frequentie\\\"] > 0\"}], \"values\": [{\"waterstand\": 15.2, \"frequentie\": 0.1131702}, {\"waterstand\": 15.3, \"frequentie\": 0.1005654}, {\"waterstand\": 15.4, \"frequentie\": 0.087884739}, {\"waterstand\": 15.5, \"frequentie\": 0.07728956599999999}, {\"waterstand\": 15.6, \"frequentie\": 0.067216396}, {\"waterstand\": 15.7, \"frequentie\": 0.057845965}, {\"waterstand\": 15.8, \"frequentie\": 0.049733865999999995}, {\"waterstand\": 15.9, \"frequentie\": 0.041748479}, {\"waterstand\": 16, \"frequentie\": 0.034775663}, {\"waterstand\": 16.1, \"frequentie\": 0.029016647000000003}, {\"waterstand\": 16.2, \"frequentie\": 0.024304695}, {\"waterstand\": 16.3, \"frequentie\": 0.020148421}, {\"waterstand\": 16.4, \"frequentie\": 0.016645148000000002}, {\"waterstand\": 16.5, \"frequentie\": 0.013650425}, {\"waterstand\": 16.6, \"frequentie\": 0.011218123}, {\"waterstand\": 16.7, \"frequentie\": 0.0089963209}, {\"waterstand\": 16.8, \"frequentie\": 0.0069746193}, {\"waterstand\": 16.9, \"frequentie\": 0.0052340645}, {\"waterstand\": 17, \"frequentie\": 0.0037789331}, {\"waterstand\": 17.1, \"frequentie\": 0.0026245182000000002}, {\"waterstand\": 17.2, \"frequentie\": 0.0017343683}, {\"waterstand\": 17.3, \"frequentie\": 0.0011132542999999998}, {\"waterstand\": 17.4, \"frequentie\": 0.00069478055}, {\"waterstand\": 17.5, \"frequentie\": 0.00041740347}, {\"waterstand\": 17.6, \"frequentie\": 0.00024611963}, {\"waterstand\": 17.7, \"frequentie\": 0.00014169683}, {\"waterstand\": 17.8, \"frequentie\": 8.2026672e-05}, {\"waterstand\": 17.9, \"frequentie\": 4.6522305999999996e-05}, {\"waterstand\": 18, \"frequentie\": 2.8103053e-05}, {\"waterstand\": 18.1, \"frequentie\": 1.7673468000000002e-05}, {\"waterstand\": 18.2, \"frequentie\": 1.0981082e-05}, {\"waterstand\": 18.3, \"frequentie\": 6.8735044e-06}]}, {\"name\": \"layout\", \"transform\": [{\"type\": \"formula\", \"field\": \"width\", \"expr\": \"500\"}, {\"type\": \"formula\", \"field\": \"height\", \"expr\": \"350\"}], \"values\": [{}]}]};\n",
       "var selector = \"#0b463f76-46c0-4bf3-9459-be6647dd969b\";\n",
       "var type = \"vega\";\n",
       "\n",
       "var output_area = this;\n",
       "require(['nbextensions/jupyter-vega/index'], function(vega) {\n",
       "  vega.render(selector, spec, type, output_area);\n",
       "}, function (err) {\n",
       "  if (err.requireType !== 'scripterror') {\n",
       "    throw(err);\n",
       "  }\n",
       "});\n"
      ]
     },
     "metadata": {
      "jupyter-vega": "#0b463f76-46c0-4bf3-9459-be6647dd969b"
     },
     "output_type": "display_data"
    },
    {
     "data": {
      "image/png": "[encoded data removed]"
     },
     "metadata": {
      "jupyter-vega": "#0b463f76-46c0-4bf3-9459-be6647dd969b"
     },
     "output_type": "display_data"
    }
   ],
   "source": [
    "Vega({\n",
    "  \"width\": 1,\n",
    "  \"height\": 1,\n",
    "  \"padding\": \"auto\",\n",
    "  \"data\": [\n",
    "    {\n",
    "      \"name\": \"source\",\n",
    "      \"values\": [\n",
    "        {\"waterstand\": 15.2,\"frequentie\": 0.1131702},\n",
    "        {\"waterstand\": 15.3,\"frequentie\": 0.1005654},\n",
    "        {\"waterstand\": 15.4,\"frequentie\": 0.087884739},\n",
    "        {\n",
    "          \"waterstand\": 15.5,\n",
    "          \"frequentie\": 0.07728956599999999\n",
    "        },\n",
    "        {\"waterstand\": 15.6,\"frequentie\": 0.067216396},\n",
    "        {\"waterstand\": 15.7,\"frequentie\": 0.057845965},\n",
    "        {\n",
    "          \"waterstand\": 15.8,\n",
    "          \"frequentie\": 0.049733865999999995\n",
    "        },\n",
    "        {\"waterstand\": 15.9,\"frequentie\": 0.041748479},\n",
    "        {\"waterstand\": 16,\"frequentie\": 0.034775663},\n",
    "        {\n",
    "          \"waterstand\": 16.1,\n",
    "          \"frequentie\": 0.029016647000000003\n",
    "        },\n",
    "        {\"waterstand\": 16.2,\"frequentie\": 0.024304695},\n",
    "        {\"waterstand\": 16.3,\"frequentie\": 0.020148421},\n",
    "        {\n",
    "          \"waterstand\": 16.4,\n",
    "          \"frequentie\": 0.016645148000000002\n",
    "        },\n",
    "        {\"waterstand\": 16.5,\"frequentie\": 0.013650425},\n",
    "        {\"waterstand\": 16.6,\"frequentie\": 0.011218123},\n",
    "        {\"waterstand\": 16.7,\"frequentie\": 0.0089963209},\n",
    "        {\"waterstand\": 16.8,\"frequentie\": 0.0069746193},\n",
    "        {\"waterstand\": 16.9,\"frequentie\": 0.0052340645},\n",
    "        {\"waterstand\": 17,\"frequentie\": 0.0037789331},\n",
    "        {\n",
    "          \"waterstand\": 17.1,\n",
    "          \"frequentie\": 0.0026245182000000002\n",
    "        },\n",
    "        {\"waterstand\": 17.2,\"frequentie\": 0.0017343683},\n",
    "        {\n",
    "          \"waterstand\": 17.3,\n",
    "          \"frequentie\": 0.0011132542999999998\n",
    "        },\n",
    "        {\"waterstand\": 17.4,\"frequentie\": 0.00069478055},\n",
    "        {\"waterstand\": 17.5,\"frequentie\": 0.00041740347},\n",
    "        {\"waterstand\": 17.6,\"frequentie\": 0.00024611963},\n",
    "        {\"waterstand\": 17.7,\"frequentie\": 0.00014169683},\n",
    "        {\"waterstand\": 17.8,\"frequentie\": 0.000082026672},\n",
    "        {\n",
    "          \"waterstand\": 17.9,\n",
    "          \"frequentie\": 0.000046522305999999996\n",
    "        },\n",
    "        {\"waterstand\": 18,\"frequentie\": 0.000028103053},\n",
    "        {\n",
    "          \"waterstand\": 18.1,\n",
    "          \"frequentie\": 0.000017673468000000002\n",
    "        },\n",
    "        {\"waterstand\": 18.2,\"frequentie\": 0.000010981082},\n",
    "        {\"waterstand\": 18.3,\"frequentie\": 0.0000068735044}\n",
    "      ],\n",
    "      \"format\": {\n",
    "        \"type\": \"json\",\n",
    "        \"parse\": {\"frequentie\": \"number\",\"waterstand\": \"number\"}\n",
    "      },\n",
    "      \"transform\": [\n",
    "        {\n",
    "          \"type\": \"filter\",\n",
    "          \"test\": \"datum[\\\"frequentie\\\"] !== null && !isNaN(datum[\\\"frequentie\\\"]) && datum[\\\"waterstand\\\"] !== null && !isNaN(datum[\\\"waterstand\\\"])\"\n",
    "        },\n",
    "        {\n",
    "          \"type\": \"filter\",\n",
    "          \"test\": \"datum[\\\"frequentie\\\"] > 0\"\n",
    "        }\n",
    "      ]\n",
    "    },\n",
    "    {\n",
    "      \"name\": \"layout\",\n",
    "      \"values\": [{}],\n",
    "      \"transform\": [\n",
    "        {\"type\": \"formula\",\"field\": \"width\",\"expr\": \"500\"},\n",
    "        {\"type\": \"formula\",\"field\": \"height\",\"expr\": \"350\"}\n",
    "      ]\n",
    "    }\n",
    "  ],\n",
    "  \"marks\": [\n",
    "    {\n",
    "      \"name\": \"root\",\n",
    "      \"type\": \"group\",\n",
    "      \"from\": {\"data\": \"layout\"},\n",
    "      \"properties\": {\n",
    "        \"update\": {\n",
    "          \"width\": {\"field\": \"width\"},\n",
    "          \"height\": {\"field\": \"height\"}\n",
    "        }\n",
    "      },\n",
    "      \"marks\": [\n",
    "        {\n",
    "          \"name\": \"marks\",\n",
    "          \"type\": \"line\",\n",
    "          \"from\": {\n",
    "            \"data\": \"source\",\n",
    "            \"transform\": [{\"type\": \"sort\",\"by\": \"-frequentie\"}]\n",
    "          },\n",
    "          \"properties\": {\n",
    "            \"update\": {\n",
    "              \"x\": {\"scale\": \"x\",\"field\": \"frequentie\"},\n",
    "              \"y\": {\"scale\": \"y\",\"field\": \"waterstand\"},\n",
    "              \"strokeWidth\": {\"value\": 2},\n",
    "              \"stroke\": {\"value\": \"#4682b4\"}\n",
    "            }\n",
    "          }\n",
    "        }\n",
    "      ],\n",
    "      \"scales\": [\n",
    "        {\n",
    "          \"name\": \"x\",\n",
    "          \"type\": \"log\",\n",
    "          \"domain\": [0.1,1e-7],\n",
    "          \"rangeMin\": 0,\n",
    "          \"rangeMax\": 500,\n",
    "          \"round\": True,\n",
    "          \"nice\": True,\n",
    "          \"zero\": False\n",
    "        },\n",
    "        {\n",
    "          \"name\": \"y\",\n",
    "          \"type\": \"linear\",\n",
    "          \"domain\": [14,19],\n",
    "          \"rangeMin\": 350,\n",
    "          \"rangeMax\": 0,\n",
    "          \"round\": True,\n",
    "          \"nice\": True,\n",
    "          \"zero\": False\n",
    "        }\n",
    "      ],\n",
    "      \"axes\": [\n",
    "        {\n",
    "          \"type\": \"x\",\n",
    "          \"scale\": \"x\",\n",
    "          \"format\": \"s\",\n",
    "          \"grid\": True,\n",
    "          \"layer\": \"back\",\n",
    "          \"ticks\": 5,\n",
    "          \"title\": \"frequentie\"\n",
    "        },\n",
    "        {\n",
    "          \"type\": \"y\",\n",
    "          \"scale\": \"y\",\n",
    "          \"format\": \"s\",\n",
    "          \"grid\": True,\n",
    "          \"layer\": \"back\",\n",
    "          \"title\": \"waterstand\"\n",
    "        }\n",
    "      ]\n",
    "    }\n",
    "  ]\n",
    "})"
   ]
  },
  {
   "cell_type": "markdown",
   "metadata": {},
   "source": [
    "En nu kunnen we het object gebruiken om bijvoorbeeld een Bokeh plot te maken. Indien nodig inclusief binding functies. Deze functies moeten voor de webomgeving in principe gemaakt worden door de ontwikkelaars, maar wanneer dit VegaLite JSON object is aangemaakt door collega x, dan kan collega y het gebruiken in zijn favoriete plotting library"
   ]
  },
  {
   "cell_type": "code",
   "execution_count": 11,
   "metadata": {
    "collapsed": true
   },
   "outputs": [],
   "source": [
    "VL = {\n",
    "  \"width\": 400,\n",
    "  \"height\": 400,\n",
    "  \"mark\": \"line\",\n",
    "  \"encoding\": {\n",
    "    \"x\": {\n",
    "      \"field\": \"frequentie\",\n",
    "      \"type\": \"quantitative\",      \n",
    "      \"scale\": {\n",
    "        \"domain\": [0.1,1e-7],\n",
    "        \"type\": \"log\"\n",
    "      }\n",
    "\n",
    "    },\n",
    "    \"y\": {\n",
    "      \"field\": \"waterstand\",\n",
    "      \"type\": \"quantitative\",\n",
    "      \"scale\": {\"domain\":[14,19]}\n",
    "    },\n",
    "    \"color\": {\"value\": \"#000000\"}\n",
    "  }\n",
    "}"
   ]
  },
  {
   "cell_type": "code",
   "execution_count": 12,
   "metadata": {
    "collapsed": false
   },
   "outputs": [
    {
     "data": {
      "text/html": [
       "\n",
       "    <div class=\"bk-root\">\n",
       "        <a href=\"http://bokeh.pydata.org\" target=\"_blank\" class=\"bk-logo bk-logo-small bk-logo-notebook\"></a>\n",
       "        <span id=\"9ab202bf-f52d-4978-b3dc-871a41f6e0ce\">Loading BokehJS ...</span>\n",
       "    </div>"
      ]
     },
     "metadata": {},
     "output_type": "display_data"
    },
    {
     "data": {
      "application/javascript": [
       "\n",
       "(function(global) {\n",
       "  function now() {\n",
       "    return new Date();\n",
       "  }\n",
       "\n",
       "  var force = true;\n",
       "\n",
       "  if (typeof (window._bokeh_onload_callbacks) === \"undefined\" || force === true) {\n",
       "    window._bokeh_onload_callbacks = [];\n",
       "    window._bokeh_is_loading = undefined;\n",
       "  }\n",
       "\n",
       "\n",
       "  \n",
       "  if (typeof (window._bokeh_timeout) === \"undefined\" || force === true) {\n",
       "    window._bokeh_timeout = Date.now() + 5000;\n",
       "    window._bokeh_failed_load = false;\n",
       "  }\n",
       "\n",
       "  var NB_LOAD_WARNING = {'data': {'text/html':\n",
       "     \"<div style='background-color: #fdd'>\\n\"+\n",
       "     \"<p>\\n\"+\n",
       "     \"BokehJS does not appear to have successfully loaded. If loading BokehJS from CDN, this \\n\"+\n",
       "     \"may be due to a slow or bad network connection. Possible fixes:\\n\"+\n",
       "     \"</p>\\n\"+\n",
       "     \"<ul>\\n\"+\n",
       "     \"<li>re-rerun `output_notebook()` to attempt to load from CDN again, or</li>\\n\"+\n",
       "     \"<li>use INLINE resources instead, as so:</li>\\n\"+\n",
       "     \"</ul>\\n\"+\n",
       "     \"<code>\\n\"+\n",
       "     \"from bokeh.resources import INLINE\\n\"+\n",
       "     \"output_notebook(resources=INLINE)\\n\"+\n",
       "     \"</code>\\n\"+\n",
       "     \"</div>\"}};\n",
       "\n",
       "  function display_loaded() {\n",
       "    if (window.Bokeh !== undefined) {\n",
       "      document.getElementById(\"9ab202bf-f52d-4978-b3dc-871a41f6e0ce\").textContent = \"BokehJS successfully loaded.\";\n",
       "    } else if (Date.now() < window._bokeh_timeout) {\n",
       "      setTimeout(display_loaded, 100)\n",
       "    }\n",
       "  }\n",
       "\n",
       "  function run_callbacks() {\n",
       "    window._bokeh_onload_callbacks.forEach(function(callback) { callback() });\n",
       "    delete window._bokeh_onload_callbacks\n",
       "    console.info(\"Bokeh: all callbacks have finished\");\n",
       "  }\n",
       "\n",
       "  function load_libs(js_urls, callback) {\n",
       "    window._bokeh_onload_callbacks.push(callback);\n",
       "    if (window._bokeh_is_loading > 0) {\n",
       "      console.log(\"Bokeh: BokehJS is being loaded, scheduling callback at\", now());\n",
       "      return null;\n",
       "    }\n",
       "    if (js_urls == null || js_urls.length === 0) {\n",
       "      run_callbacks();\n",
       "      return null;\n",
       "    }\n",
       "    console.log(\"Bokeh: BokehJS not loaded, scheduling load and callback at\", now());\n",
       "    window._bokeh_is_loading = js_urls.length;\n",
       "    for (var i = 0; i < js_urls.length; i++) {\n",
       "      var url = js_urls[i];\n",
       "      var s = document.createElement('script');\n",
       "      s.src = url;\n",
       "      s.async = false;\n",
       "      s.onreadystatechange = s.onload = function() {\n",
       "        window._bokeh_is_loading--;\n",
       "        if (window._bokeh_is_loading === 0) {\n",
       "          console.log(\"Bokeh: all BokehJS libraries loaded\");\n",
       "          run_callbacks()\n",
       "        }\n",
       "      };\n",
       "      s.onerror = function() {\n",
       "        console.warn(\"failed to load library \" + url);\n",
       "      };\n",
       "      console.log(\"Bokeh: injecting script tag for BokehJS library: \", url);\n",
       "      document.getElementsByTagName(\"head\")[0].appendChild(s);\n",
       "    }\n",
       "  };var element = document.getElementById(\"9ab202bf-f52d-4978-b3dc-871a41f6e0ce\");\n",
       "  if (element == null) {\n",
       "    console.log(\"Bokeh: ERROR: autoload.js configured with elementid '9ab202bf-f52d-4978-b3dc-871a41f6e0ce' but no matching script tag was found. \")\n",
       "    return false;\n",
       "  }\n",
       "\n",
       "  var js_urls = [\"https://cdn.pydata.org/bokeh/release/bokeh-0.12.4.min.js\", \"https://cdn.pydata.org/bokeh/release/bokeh-widgets-0.12.4.min.js\"];\n",
       "\n",
       "  var inline_js = [\n",
       "    function(Bokeh) {\n",
       "      Bokeh.set_log_level(\"info\");\n",
       "    },\n",
       "    \n",
       "    function(Bokeh) {\n",
       "      \n",
       "      document.getElementById(\"9ab202bf-f52d-4978-b3dc-871a41f6e0ce\").textContent = \"BokehJS is loading...\";\n",
       "    },\n",
       "    function(Bokeh) {\n",
       "      console.log(\"Bokeh: injecting CSS: https://cdn.pydata.org/bokeh/release/bokeh-0.12.4.min.css\");\n",
       "      Bokeh.embed.inject_css(\"https://cdn.pydata.org/bokeh/release/bokeh-0.12.4.min.css\");\n",
       "      console.log(\"Bokeh: injecting CSS: https://cdn.pydata.org/bokeh/release/bokeh-widgets-0.12.4.min.css\");\n",
       "      Bokeh.embed.inject_css(\"https://cdn.pydata.org/bokeh/release/bokeh-widgets-0.12.4.min.css\");\n",
       "    }\n",
       "  ];\n",
       "\n",
       "  function run_inline_js() {\n",
       "    \n",
       "    if ((window.Bokeh !== undefined) || (force === true)) {\n",
       "      for (var i = 0; i < inline_js.length; i++) {\n",
       "        inline_js[i](window.Bokeh);\n",
       "      }if (force === true) {\n",
       "        display_loaded();\n",
       "      }} else if (Date.now() < window._bokeh_timeout) {\n",
       "      setTimeout(run_inline_js, 100);\n",
       "    } else if (!window._bokeh_failed_load) {\n",
       "      console.log(\"Bokeh: BokehJS failed to load within specified timeout.\");\n",
       "      window._bokeh_failed_load = true;\n",
       "    } else if (force !== true) {\n",
       "      var cell = $(document.getElementById(\"9ab202bf-f52d-4978-b3dc-871a41f6e0ce\")).parents('.cell').data().cell;\n",
       "      cell.output_area.append_execute_result(NB_LOAD_WARNING)\n",
       "    }\n",
       "\n",
       "  }\n",
       "\n",
       "  if (window._bokeh_is_loading === 0) {\n",
       "    console.log(\"Bokeh: BokehJS loaded, going straight to plotting\");\n",
       "    run_inline_js();\n",
       "  } else {\n",
       "    load_libs(js_urls, function() {\n",
       "      console.log(\"Bokeh: BokehJS plotting callback run at\", now());\n",
       "      run_inline_js();\n",
       "    });\n",
       "  }\n",
       "}(this));"
      ]
     },
     "metadata": {},
     "output_type": "display_data"
    }
   ],
   "source": [
    "from bokeh.io import output_notebook, show\n",
    "from bokeh.models import Range1d\n",
    "from bokeh.plotting import figure\n",
    "output_notebook()"
   ]
  },
  {
   "cell_type": "code",
   "execution_count": 13,
   "metadata": {
    "collapsed": false
   },
   "outputs": [],
   "source": [
    "VL_chart_type = VL[\"mark\"]\n",
    "VL_x_scale_domain = VL[\"encoding\"][\"x\"][\"scale\"][\"domain\"]\n",
    "VL_y_scale_domain = VL[\"encoding\"][\"y\"][\"scale\"][\"domain\"]\n",
    "VL_x_scale_type = VL[\"encoding\"][\"x\"][\"scale\"][\"type\"]\n",
    "VL_width = VL[\"width\"]\n",
    "VL_height = VL[\"height\"]\n",
    "VL_x_field = VL[\"encoding\"][\"x\"][\"field\"]\n",
    "VL_y_field = VL[\"encoding\"][\"y\"][\"field\"]\n",
    "VL_color = VL[\"encoding\"][\"color\"][\"value\"]"
   ]
  },
  {
   "cell_type": "code",
   "execution_count": 14,
   "metadata": {
    "collapsed": false
   },
   "outputs": [
    {
     "name": "stdout",
     "output_type": "stream",
     "text": [
      "x_scale_domain: [0.1, 1e-07]\n",
      "color #000000\n"
     ]
    }
   ],
   "source": [
    "print ('x_scale_domain:',VL_x_scale_domain)\n",
    "print ('color', VL_color)"
   ]
  },
  {
   "cell_type": "code",
   "execution_count": 15,
   "metadata": {
    "collapsed": true
   },
   "outputs": [],
   "source": [
    "# maak een plot"
   ]
  },
  {
   "cell_type": "code",
   "execution_count": 16,
   "metadata": {
    "collapsed": false
   },
   "outputs": [
    {
     "data": {
      "text/html": [
       "\n",
       "\n",
       "    <div class=\"bk-root\">\n",
       "        <div class=\"bk-plotdiv\" id=\"8ce72096-6e67-4d3b-a68d-dd0dec1a7034\"></div>\n",
       "    </div>\n",
       "<script type=\"text/javascript\">\n",
       "  \n",
       "  (function(global) {\n",
       "    function now() {\n",
       "      return new Date();\n",
       "    }\n",
       "  \n",
       "    var force = false;\n",
       "  \n",
       "    if (typeof (window._bokeh_onload_callbacks) === \"undefined\" || force === true) {\n",
       "      window._bokeh_onload_callbacks = [];\n",
       "      window._bokeh_is_loading = undefined;\n",
       "    }\n",
       "  \n",
       "  \n",
       "    \n",
       "    if (typeof (window._bokeh_timeout) === \"undefined\" || force === true) {\n",
       "      window._bokeh_timeout = Date.now() + 0;\n",
       "      window._bokeh_failed_load = false;\n",
       "    }\n",
       "  \n",
       "    var NB_LOAD_WARNING = {'data': {'text/html':\n",
       "       \"<div style='background-color: #fdd'>\\n\"+\n",
       "       \"<p>\\n\"+\n",
       "       \"BokehJS does not appear to have successfully loaded. If loading BokehJS from CDN, this \\n\"+\n",
       "       \"may be due to a slow or bad network connection. Possible fixes:\\n\"+\n",
       "       \"</p>\\n\"+\n",
       "       \"<ul>\\n\"+\n",
       "       \"<li>re-rerun `output_notebook()` to attempt to load from CDN again, or</li>\\n\"+\n",
       "       \"<li>use INLINE resources instead, as so:</li>\\n\"+\n",
       "       \"</ul>\\n\"+\n",
       "       \"<code>\\n\"+\n",
       "       \"from bokeh.resources import INLINE\\n\"+\n",
       "       \"output_notebook(resources=INLINE)\\n\"+\n",
       "       \"</code>\\n\"+\n",
       "       \"</div>\"}};\n",
       "  \n",
       "    function display_loaded() {\n",
       "      if (window.Bokeh !== undefined) {\n",
       "        document.getElementById(\"8ce72096-6e67-4d3b-a68d-dd0dec1a7034\").textContent = \"BokehJS successfully loaded.\";\n",
       "      } else if (Date.now() < window._bokeh_timeout) {\n",
       "        setTimeout(display_loaded, 100)\n",
       "      }\n",
       "    }\n",
       "  \n",
       "    function run_callbacks() {\n",
       "      window._bokeh_onload_callbacks.forEach(function(callback) { callback() });\n",
       "      delete window._bokeh_onload_callbacks\n",
       "      console.info(\"Bokeh: all callbacks have finished\");\n",
       "    }\n",
       "  \n",
       "    function load_libs(js_urls, callback) {\n",
       "      window._bokeh_onload_callbacks.push(callback);\n",
       "      if (window._bokeh_is_loading > 0) {\n",
       "        console.log(\"Bokeh: BokehJS is being loaded, scheduling callback at\", now());\n",
       "        return null;\n",
       "      }\n",
       "      if (js_urls == null || js_urls.length === 0) {\n",
       "        run_callbacks();\n",
       "        return null;\n",
       "      }\n",
       "      console.log(\"Bokeh: BokehJS not loaded, scheduling load and callback at\", now());\n",
       "      window._bokeh_is_loading = js_urls.length;\n",
       "      for (var i = 0; i < js_urls.length; i++) {\n",
       "        var url = js_urls[i];\n",
       "        var s = document.createElement('script');\n",
       "        s.src = url;\n",
       "        s.async = false;\n",
       "        s.onreadystatechange = s.onload = function() {\n",
       "          window._bokeh_is_loading--;\n",
       "          if (window._bokeh_is_loading === 0) {\n",
       "            console.log(\"Bokeh: all BokehJS libraries loaded\");\n",
       "            run_callbacks()\n",
       "          }\n",
       "        };\n",
       "        s.onerror = function() {\n",
       "          console.warn(\"failed to load library \" + url);\n",
       "        };\n",
       "        console.log(\"Bokeh: injecting script tag for BokehJS library: \", url);\n",
       "        document.getElementsByTagName(\"head\")[0].appendChild(s);\n",
       "      }\n",
       "    };var element = document.getElementById(\"8ce72096-6e67-4d3b-a68d-dd0dec1a7034\");\n",
       "    if (element == null) {\n",
       "      console.log(\"Bokeh: ERROR: autoload.js configured with elementid '8ce72096-6e67-4d3b-a68d-dd0dec1a7034' but no matching script tag was found. \")\n",
       "      return false;\n",
       "    }\n",
       "  \n",
       "    var js_urls = [];\n",
       "  \n",
       "    var inline_js = [\n",
       "      function(Bokeh) {\n",
       "        (function() {\n",
       "          var fn = function() {\n",
       "            var docs_json = {\"4cb680a3-b721-4bf9-b954-69e3bebcdcb2\":{\"roots\":{\"references\":[{\"attributes\":{\"plot\":{\"id\":\"5702876b-b489-411f-9db3-efbb398c3b15\",\"subtype\":\"Figure\",\"type\":\"Plot\"},\"ticker\":{\"id\":\"8078ce6b-e2dc-42a4-aecb-214b71c6da99\",\"type\":\"LogTicker\"}},\"id\":\"d8a1ed87-93f3-46d3-a882-cfb348634ca1\",\"type\":\"Grid\"},{\"attributes\":{\"num_minor_ticks\":10},\"id\":\"8078ce6b-e2dc-42a4-aecb-214b71c6da99\",\"type\":\"LogTicker\"},{\"attributes\":{\"callback\":null,\"end\":1e-07,\"start\":0.1},\"id\":\"651421f0-9dd7-4a24-9c59-8d2fdef60cad\",\"type\":\"Range1d\"},{\"attributes\":{\"below\":[{\"id\":\"2cf45fc4-1e24-490a-8744-f66e10d5dc7f\",\"type\":\"LogAxis\"}],\"left\":[{\"id\":\"b7f4ff45-ffd6-484e-aa3e-b94455162559\",\"type\":\"LinearAxis\"}],\"plot_height\":400,\"plot_width\":400,\"renderers\":[{\"id\":\"2cf45fc4-1e24-490a-8744-f66e10d5dc7f\",\"type\":\"LogAxis\"},{\"id\":\"d8a1ed87-93f3-46d3-a882-cfb348634ca1\",\"type\":\"Grid\"},{\"id\":\"b7f4ff45-ffd6-484e-aa3e-b94455162559\",\"type\":\"LinearAxis\"},{\"id\":\"b4d629ba-d104-4d25-8efa-df33c5344172\",\"type\":\"Grid\"},{\"id\":\"bf56b31f-8f34-4739-a83b-cae93aad9bde\",\"type\":\"BoxAnnotation\"},{\"id\":\"a90a12cd-73cc-471a-9a4c-f2eb36a467ff\",\"type\":\"GlyphRenderer\"}],\"title\":{\"id\":\"76c0f57c-129a-449b-a21c-99d7cbd7796f\",\"type\":\"Title\"},\"tool_events\":{\"id\":\"a9a045bd-70e8-48c4-b227-46126e7bae73\",\"type\":\"ToolEvents\"},\"toolbar\":{\"id\":\"3318ff95-ff65-4fbe-9f11-c28294dbc3d5\",\"type\":\"Toolbar\"},\"x_mapper_type\":\"log\",\"x_range\":{\"id\":\"651421f0-9dd7-4a24-9c59-8d2fdef60cad\",\"type\":\"Range1d\"},\"y_range\":{\"id\":\"d8835860-1e06-49f3-ac72-e50e27ac2edd\",\"type\":\"Range1d\"}},\"id\":\"5702876b-b489-411f-9db3-efbb398c3b15\",\"subtype\":\"Figure\",\"type\":\"Plot\"},{\"attributes\":{\"active_drag\":\"auto\",\"active_scroll\":\"auto\",\"active_tap\":\"auto\",\"tools\":[{\"id\":\"b1de07c5-24ea-46b5-861a-87d4ef1897c3\",\"type\":\"PanTool\"},{\"id\":\"3fbd1890-59f0-4faf-82f9-2b32e6e54fa3\",\"type\":\"WheelZoomTool\"},{\"id\":\"cb114424-0204-4ee7-bc92-d89d95af76cc\",\"type\":\"BoxZoomTool\"},{\"id\":\"3359af2f-e16d-463b-a244-c72e363c7582\",\"type\":\"SaveTool\"},{\"id\":\"9ddf9d66-2819-42ef-b110-d9a153a99ed3\",\"type\":\"ResetTool\"},{\"id\":\"f7296675-ec1c-4bee-8085-b6b92e89df5f\",\"type\":\"HelpTool\"}]},\"id\":\"3318ff95-ff65-4fbe-9f11-c28294dbc3d5\",\"type\":\"Toolbar\"},{\"attributes\":{\"plot\":{\"id\":\"5702876b-b489-411f-9db3-efbb398c3b15\",\"subtype\":\"Figure\",\"type\":\"Plot\"}},\"id\":\"3fbd1890-59f0-4faf-82f9-2b32e6e54fa3\",\"type\":\"WheelZoomTool\"},{\"attributes\":{\"plot\":{\"id\":\"5702876b-b489-411f-9db3-efbb398c3b15\",\"subtype\":\"Figure\",\"type\":\"Plot\"}},\"id\":\"f7296675-ec1c-4bee-8085-b6b92e89df5f\",\"type\":\"HelpTool\"},{\"attributes\":{\"line_color\":{\"value\":\"#000000\"},\"x\":{\"field\":\"x\"},\"y\":{\"field\":\"y\"}},\"id\":\"2310f917-e88a-4e5c-8817-ae7d7e344892\",\"type\":\"Line\"},{\"attributes\":{\"plot\":{\"id\":\"5702876b-b489-411f-9db3-efbb398c3b15\",\"subtype\":\"Figure\",\"type\":\"Plot\"}},\"id\":\"b1de07c5-24ea-46b5-861a-87d4ef1897c3\",\"type\":\"PanTool\"},{\"attributes\":{\"callback\":null,\"end\":19,\"start\":14},\"id\":\"d8835860-1e06-49f3-ac72-e50e27ac2edd\",\"type\":\"Range1d\"},{\"attributes\":{\"plot\":{\"id\":\"5702876b-b489-411f-9db3-efbb398c3b15\",\"subtype\":\"Figure\",\"type\":\"Plot\"}},\"id\":\"3359af2f-e16d-463b-a244-c72e363c7582\",\"type\":\"SaveTool\"},{\"attributes\":{\"formatter\":{\"id\":\"b18ff958-a6a1-43aa-ae44-e8b2cd995748\",\"type\":\"LogTickFormatter\"},\"plot\":{\"id\":\"5702876b-b489-411f-9db3-efbb398c3b15\",\"subtype\":\"Figure\",\"type\":\"Plot\"},\"ticker\":{\"id\":\"8078ce6b-e2dc-42a4-aecb-214b71c6da99\",\"type\":\"LogTicker\"}},\"id\":\"2cf45fc4-1e24-490a-8744-f66e10d5dc7f\",\"type\":\"LogAxis\"},{\"attributes\":{},\"id\":\"44618a10-b211-433e-b28c-798cfcdb6459\",\"type\":\"BasicTicker\"},{\"attributes\":{\"dimension\":1,\"plot\":{\"id\":\"5702876b-b489-411f-9db3-efbb398c3b15\",\"subtype\":\"Figure\",\"type\":\"Plot\"},\"ticker\":{\"id\":\"44618a10-b211-433e-b28c-798cfcdb6459\",\"type\":\"BasicTicker\"}},\"id\":\"b4d629ba-d104-4d25-8efa-df33c5344172\",\"type\":\"Grid\"},{\"attributes\":{\"line_alpha\":{\"value\":0.1},\"line_color\":{\"value\":\"#1f77b4\"},\"x\":{\"field\":\"x\"},\"y\":{\"field\":\"y\"}},\"id\":\"f30abc01-80e9-4e63-87b4-be38d52d2660\",\"type\":\"Line\"},{\"attributes\":{\"formatter\":{\"id\":\"b581690d-93a4-4d74-afd4-8efc71faea4e\",\"type\":\"BasicTickFormatter\"},\"plot\":{\"id\":\"5702876b-b489-411f-9db3-efbb398c3b15\",\"subtype\":\"Figure\",\"type\":\"Plot\"},\"ticker\":{\"id\":\"44618a10-b211-433e-b28c-798cfcdb6459\",\"type\":\"BasicTicker\"}},\"id\":\"b7f4ff45-ffd6-484e-aa3e-b94455162559\",\"type\":\"LinearAxis\"},{\"attributes\":{},\"id\":\"a9a045bd-70e8-48c4-b227-46126e7bae73\",\"type\":\"ToolEvents\"},{\"attributes\":{\"ticker\":null},\"id\":\"b18ff958-a6a1-43aa-ae44-e8b2cd995748\",\"type\":\"LogTickFormatter\"},{\"attributes\":{\"plot\":{\"id\":\"5702876b-b489-411f-9db3-efbb398c3b15\",\"subtype\":\"Figure\",\"type\":\"Plot\"}},\"id\":\"9ddf9d66-2819-42ef-b110-d9a153a99ed3\",\"type\":\"ResetTool\"},{\"attributes\":{\"callback\":null,\"column_names\":[\"y\",\"x\"],\"data\":{\"x\":{\"__ndarray__\":\"SLzh47j4vD/O8Rtwp765PxWP0j+df7Y/tcJKvj/Jsz87MpP+FzWxP9jYwn/8na0/xYHyn7d2qT+f7Ox/DmClPz49kJ4dzqE/T0meN4q2nT9kMqh4VOOYP/hNC6XJoZQ/sTUw+WwLkT90rJwHwfSLPzKSQvuG+YY/tAhmwKlsgj8Sk7oca5F8PyR5pH1QcHU/ETSBQv/0bj8stsZ6A4BlP82MLMh3alw/aGLhs1M9Uj8lIr3ePcRGP28yvUDeWjs/CEkCwzMhMD+UcmiAjpIiPxVpm363gBU/EgIvQx5kCD/3xcoY23f9PvckG3kviPI+VKYGa2wH5z4iR7qAXtTcPg==\",\"dtype\":\"float64\",\"shape\":[32]},\"y\":{\"__ndarray__\":\"ZmZmZmZmLkCamZmZmZkuQM3MzMzMzC5AAAAAAAAAL0AzMzMzMzMvQGZmZmZmZi9AmpmZmZmZL0DNzMzMzMwvQAAAAAAAADBAmpmZmZkZMEAzMzMzMzMwQM3MzMzMTDBAZmZmZmZmMEAAAAAAAIAwQJqZmZmZmTBAMzMzMzOzMEDNzMzMzMwwQGZmZmZm5jBAAAAAAAAAMUCamZmZmRkxQDMzMzMzMzFAzczMzMxMMUBmZmZmZmYxQAAAAAAAgDFAmpmZmZmZMUAzMzMzM7MxQM3MzMzMzDFAZmZmZmbmMUAAAAAAAAAyQJqZmZmZGTJAMzMzMzMzMkDNzMzMzEwyQA==\",\"dtype\":\"float64\",\"shape\":[32]}}},\"id\":\"2aad73ba-334f-4175-a465-84343f7edd82\",\"type\":\"ColumnDataSource\"},{\"attributes\":{\"plot\":null,\"text\":\"\"},\"id\":\"76c0f57c-129a-449b-a21c-99d7cbd7796f\",\"type\":\"Title\"},{\"attributes\":{\"overlay\":{\"id\":\"bf56b31f-8f34-4739-a83b-cae93aad9bde\",\"type\":\"BoxAnnotation\"},\"plot\":{\"id\":\"5702876b-b489-411f-9db3-efbb398c3b15\",\"subtype\":\"Figure\",\"type\":\"Plot\"}},\"id\":\"cb114424-0204-4ee7-bc92-d89d95af76cc\",\"type\":\"BoxZoomTool\"},{\"attributes\":{\"data_source\":{\"id\":\"2aad73ba-334f-4175-a465-84343f7edd82\",\"type\":\"ColumnDataSource\"},\"glyph\":{\"id\":\"2310f917-e88a-4e5c-8817-ae7d7e344892\",\"type\":\"Line\"},\"hover_glyph\":null,\"nonselection_glyph\":{\"id\":\"f30abc01-80e9-4e63-87b4-be38d52d2660\",\"type\":\"Line\"},\"selection_glyph\":null},\"id\":\"a90a12cd-73cc-471a-9a4c-f2eb36a467ff\",\"type\":\"GlyphRenderer\"},{\"attributes\":{},\"id\":\"b581690d-93a4-4d74-afd4-8efc71faea4e\",\"type\":\"BasicTickFormatter\"},{\"attributes\":{\"bottom_units\":\"screen\",\"fill_alpha\":{\"value\":0.5},\"fill_color\":{\"value\":\"lightgrey\"},\"left_units\":\"screen\",\"level\":\"overlay\",\"line_alpha\":{\"value\":1.0},\"line_color\":{\"value\":\"black\"},\"line_dash\":[4,4],\"line_width\":{\"value\":2},\"plot\":null,\"render_mode\":\"css\",\"right_units\":\"screen\",\"top_units\":\"screen\"},\"id\":\"bf56b31f-8f34-4739-a83b-cae93aad9bde\",\"type\":\"BoxAnnotation\"}],\"root_ids\":[\"5702876b-b489-411f-9db3-efbb398c3b15\"]},\"title\":\"Bokeh Application\",\"version\":\"0.12.4\"}};\n",
       "            var render_items = [{\"docid\":\"4cb680a3-b721-4bf9-b954-69e3bebcdcb2\",\"elementid\":\"8ce72096-6e67-4d3b-a68d-dd0dec1a7034\",\"modelid\":\"5702876b-b489-411f-9db3-efbb398c3b15\"}];\n",
       "            \n",
       "            Bokeh.embed.embed_items(docs_json, render_items);\n",
       "          };\n",
       "          if (document.readyState != \"loading\") fn();\n",
       "          else document.addEventListener(\"DOMContentLoaded\", fn);\n",
       "        })();\n",
       "      },\n",
       "      function(Bokeh) {\n",
       "      }\n",
       "    ];\n",
       "  \n",
       "    function run_inline_js() {\n",
       "      \n",
       "      if ((window.Bokeh !== undefined) || (force === true)) {\n",
       "        for (var i = 0; i < inline_js.length; i++) {\n",
       "          inline_js[i](window.Bokeh);\n",
       "        }if (force === true) {\n",
       "          display_loaded();\n",
       "        }} else if (Date.now() < window._bokeh_timeout) {\n",
       "        setTimeout(run_inline_js, 100);\n",
       "      } else if (!window._bokeh_failed_load) {\n",
       "        console.log(\"Bokeh: BokehJS failed to load within specified timeout.\");\n",
       "        window._bokeh_failed_load = true;\n",
       "      } else if (force !== true) {\n",
       "        var cell = $(document.getElementById(\"8ce72096-6e67-4d3b-a68d-dd0dec1a7034\")).parents('.cell').data().cell;\n",
       "        cell.output_area.append_execute_result(NB_LOAD_WARNING)\n",
       "      }\n",
       "  \n",
       "    }\n",
       "  \n",
       "    if (window._bokeh_is_loading === 0) {\n",
       "      console.log(\"Bokeh: BokehJS loaded, going straight to plotting\");\n",
       "      run_inline_js();\n",
       "    } else {\n",
       "      load_libs(js_urls, function() {\n",
       "        console.log(\"Bokeh: BokehJS plotting callback run at\", now());\n",
       "        run_inline_js();\n",
       "      });\n",
       "    }\n",
       "  }(this));\n",
       "</script>"
      ]
     },
     "metadata": {},
     "output_type": "display_data"
    }
   ],
   "source": [
    "# create a new plot (with a title) using figure\n",
    "p = figure(plot_width=VL_width, plot_height=VL_height,x_axis_type=VL_x_scale_type)\n",
    "\n",
    "if VL_chart_type == 'line':\n",
    "    # add a line renderer\n",
    "    p.line(df[VL_x_field], df[VL_y_field], color=VL_color)\n",
    "    p.y_range = Range1d(VL_y_scale_domain[0], VL_y_scale_domain[1])\n",
    "    p.x_range = Range1d(VL_x_scale_domain[0], VL_x_scale_domain[1])\n",
    "\n",
    "show(p) # show the results"
   ]
  },
  {
   "cell_type": "code",
   "execution_count": 17,
   "metadata": {
    "collapsed": true
   },
   "outputs": [],
   "source": [
    "# permanente wijzigingen doorvoeren in het json object"
   ]
  },
  {
   "cell_type": "code",
   "execution_count": 18,
   "metadata": {
    "collapsed": true
   },
   "outputs": [],
   "source": [
    "VL[\"mark\"] = 'point'\n",
    "VL[\"encoding\"][\"x\"][\"scale\"][\"domain\"][0] = 1\n",
    "VL[\"encoding\"][\"color\"][\"value\"] = 'red'"
   ]
  },
  {
   "cell_type": "code",
   "execution_count": 19,
   "metadata": {
    "collapsed": false
   },
   "outputs": [
    {
     "data": {
      "text/plain": [
       "{'encoding': {'color': {'value': 'red'},\n",
       "  'x': {'field': 'frequentie',\n",
       "   'scale': {'domain': [1, 1e-07], 'type': 'log'},\n",
       "   'type': 'quantitative'},\n",
       "  'y': {'field': 'waterstand',\n",
       "   'scale': {'domain': [14, 19]},\n",
       "   'type': 'quantitative'}},\n",
       " 'height': 400,\n",
       " 'mark': 'point',\n",
       " 'width': 400}"
      ]
     },
     "execution_count": 19,
     "metadata": {},
     "output_type": "execute_result"
    }
   ],
   "source": [
    "VL"
   ]
  },
  {
   "cell_type": "code",
   "execution_count": 20,
   "metadata": {
    "collapsed": true
   },
   "outputs": [],
   "source": [
    "VL_chart_type = VL[\"mark\"]\n",
    "VL_x_scale_domain = VL[\"encoding\"][\"x\"][\"scale\"][\"domain\"]\n",
    "VL_color = VL[\"encoding\"][\"color\"][\"value\"]"
   ]
  },
  {
   "cell_type": "code",
   "execution_count": 21,
   "metadata": {
    "collapsed": false
   },
   "outputs": [
    {
     "data": {
      "text/html": [
       "\n",
       "\n",
       "    <div class=\"bk-root\">\n",
       "        <div class=\"bk-plotdiv\" id=\"792fc586-269f-4ff8-af85-a114c97c593b\"></div>\n",
       "    </div>\n",
       "<script type=\"text/javascript\">\n",
       "  \n",
       "  (function(global) {\n",
       "    function now() {\n",
       "      return new Date();\n",
       "    }\n",
       "  \n",
       "    var force = false;\n",
       "  \n",
       "    if (typeof (window._bokeh_onload_callbacks) === \"undefined\" || force === true) {\n",
       "      window._bokeh_onload_callbacks = [];\n",
       "      window._bokeh_is_loading = undefined;\n",
       "    }\n",
       "  \n",
       "  \n",
       "    \n",
       "    if (typeof (window._bokeh_timeout) === \"undefined\" || force === true) {\n",
       "      window._bokeh_timeout = Date.now() + 0;\n",
       "      window._bokeh_failed_load = false;\n",
       "    }\n",
       "  \n",
       "    var NB_LOAD_WARNING = {'data': {'text/html':\n",
       "       \"<div style='background-color: #fdd'>\\n\"+\n",
       "       \"<p>\\n\"+\n",
       "       \"BokehJS does not appear to have successfully loaded. If loading BokehJS from CDN, this \\n\"+\n",
       "       \"may be due to a slow or bad network connection. Possible fixes:\\n\"+\n",
       "       \"</p>\\n\"+\n",
       "       \"<ul>\\n\"+\n",
       "       \"<li>re-rerun `output_notebook()` to attempt to load from CDN again, or</li>\\n\"+\n",
       "       \"<li>use INLINE resources instead, as so:</li>\\n\"+\n",
       "       \"</ul>\\n\"+\n",
       "       \"<code>\\n\"+\n",
       "       \"from bokeh.resources import INLINE\\n\"+\n",
       "       \"output_notebook(resources=INLINE)\\n\"+\n",
       "       \"</code>\\n\"+\n",
       "       \"</div>\"}};\n",
       "  \n",
       "    function display_loaded() {\n",
       "      if (window.Bokeh !== undefined) {\n",
       "        document.getElementById(\"792fc586-269f-4ff8-af85-a114c97c593b\").textContent = \"BokehJS successfully loaded.\";\n",
       "      } else if (Date.now() < window._bokeh_timeout) {\n",
       "        setTimeout(display_loaded, 100)\n",
       "      }\n",
       "    }\n",
       "  \n",
       "    function run_callbacks() {\n",
       "      window._bokeh_onload_callbacks.forEach(function(callback) { callback() });\n",
       "      delete window._bokeh_onload_callbacks\n",
       "      console.info(\"Bokeh: all callbacks have finished\");\n",
       "    }\n",
       "  \n",
       "    function load_libs(js_urls, callback) {\n",
       "      window._bokeh_onload_callbacks.push(callback);\n",
       "      if (window._bokeh_is_loading > 0) {\n",
       "        console.log(\"Bokeh: BokehJS is being loaded, scheduling callback at\", now());\n",
       "        return null;\n",
       "      }\n",
       "      if (js_urls == null || js_urls.length === 0) {\n",
       "        run_callbacks();\n",
       "        return null;\n",
       "      }\n",
       "      console.log(\"Bokeh: BokehJS not loaded, scheduling load and callback at\", now());\n",
       "      window._bokeh_is_loading = js_urls.length;\n",
       "      for (var i = 0; i < js_urls.length; i++) {\n",
       "        var url = js_urls[i];\n",
       "        var s = document.createElement('script');\n",
       "        s.src = url;\n",
       "        s.async = false;\n",
       "        s.onreadystatechange = s.onload = function() {\n",
       "          window._bokeh_is_loading--;\n",
       "          if (window._bokeh_is_loading === 0) {\n",
       "            console.log(\"Bokeh: all BokehJS libraries loaded\");\n",
       "            run_callbacks()\n",
       "          }\n",
       "        };\n",
       "        s.onerror = function() {\n",
       "          console.warn(\"failed to load library \" + url);\n",
       "        };\n",
       "        console.log(\"Bokeh: injecting script tag for BokehJS library: \", url);\n",
       "        document.getElementsByTagName(\"head\")[0].appendChild(s);\n",
       "      }\n",
       "    };var element = document.getElementById(\"792fc586-269f-4ff8-af85-a114c97c593b\");\n",
       "    if (element == null) {\n",
       "      console.log(\"Bokeh: ERROR: autoload.js configured with elementid '792fc586-269f-4ff8-af85-a114c97c593b' but no matching script tag was found. \")\n",
       "      return false;\n",
       "    }\n",
       "  \n",
       "    var js_urls = [];\n",
       "  \n",
       "    var inline_js = [\n",
       "      function(Bokeh) {\n",
       "        (function() {\n",
       "          var fn = function() {\n",
       "            var docs_json = {\"b0613cf5-0e75-4b1f-b4e2-0a81ebc007bf\":{\"roots\":{\"references\":[{\"attributes\":{\"overlay\":{\"id\":\"6383d7d4-417c-4971-97c7-05ea3ad3e1aa\",\"type\":\"BoxAnnotation\"},\"plot\":{\"id\":\"17bfb0e5-c7fd-44dc-8357-242f62dd4157\",\"subtype\":\"Figure\",\"type\":\"Plot\"}},\"id\":\"c4054e3d-e481-44d0-a6aa-db951d0cc28d\",\"type\":\"BoxZoomTool\"},{\"attributes\":{\"formatter\":{\"id\":\"80cd54b5-1720-477d-b36a-23fcfe93dbcf\",\"type\":\"LogTickFormatter\"},\"plot\":{\"id\":\"17bfb0e5-c7fd-44dc-8357-242f62dd4157\",\"subtype\":\"Figure\",\"type\":\"Plot\"},\"ticker\":{\"id\":\"fd48ca84-8a9d-4f20-a55d-9b2017431baa\",\"type\":\"LogTicker\"}},\"id\":\"f8c7d528-671d-453e-ac8d-1e0ce102e22c\",\"type\":\"LogAxis\"},{\"attributes\":{\"fill_color\":{\"value\":\"red\"},\"line_color\":{\"value\":\"red\"},\"x\":{\"field\":\"x\"},\"y\":{\"field\":\"y\"}},\"id\":\"d829732e-a612-4684-8bd2-7a6bd1728f99\",\"type\":\"Circle\"},{\"attributes\":{\"plot\":{\"id\":\"17bfb0e5-c7fd-44dc-8357-242f62dd4157\",\"subtype\":\"Figure\",\"type\":\"Plot\"}},\"id\":\"b3ee1562-3de8-4b86-b5b4-0b258d0b775c\",\"type\":\"PanTool\"},{\"attributes\":{},\"id\":\"74df7deb-5d28-4ad2-9a14-4014c83db309\",\"type\":\"BasicTicker\"},{\"attributes\":{\"plot\":{\"id\":\"17bfb0e5-c7fd-44dc-8357-242f62dd4157\",\"subtype\":\"Figure\",\"type\":\"Plot\"}},\"id\":\"61d0aa5b-00c6-4be7-8c35-a511c5011cd2\",\"type\":\"HelpTool\"},{\"attributes\":{\"callback\":null,\"column_names\":[\"y\",\"x\"],\"data\":{\"x\":{\"__ndarray__\":\"SLzh47j4vD/O8Rtwp765PxWP0j+df7Y/tcJKvj/Jsz87MpP+FzWxP9jYwn/8na0/xYHyn7d2qT+f7Ox/DmClPz49kJ4dzqE/T0meN4q2nT9kMqh4VOOYP/hNC6XJoZQ/sTUw+WwLkT90rJwHwfSLPzKSQvuG+YY/tAhmwKlsgj8Sk7oca5F8PyR5pH1QcHU/ETSBQv/0bj8stsZ6A4BlP82MLMh3alw/aGLhs1M9Uj8lIr3ePcRGP28yvUDeWjs/CEkCwzMhMD+UcmiAjpIiPxVpm363gBU/EgIvQx5kCD/3xcoY23f9PvckG3kviPI+VKYGa2wH5z4iR7qAXtTcPg==\",\"dtype\":\"float64\",\"shape\":[32]},\"y\":{\"__ndarray__\":\"ZmZmZmZmLkCamZmZmZkuQM3MzMzMzC5AAAAAAAAAL0AzMzMzMzMvQGZmZmZmZi9AmpmZmZmZL0DNzMzMzMwvQAAAAAAAADBAmpmZmZkZMEAzMzMzMzMwQM3MzMzMTDBAZmZmZmZmMEAAAAAAAIAwQJqZmZmZmTBAMzMzMzOzMEDNzMzMzMwwQGZmZmZm5jBAAAAAAAAAMUCamZmZmRkxQDMzMzMzMzFAzczMzMxMMUBmZmZmZmYxQAAAAAAAgDFAmpmZmZmZMUAzMzMzM7MxQM3MzMzMzDFAZmZmZmbmMUAAAAAAAAAyQJqZmZmZGTJAMzMzMzMzMkDNzMzMzEwyQA==\",\"dtype\":\"float64\",\"shape\":[32]}}},\"id\":\"d81a7879-fcf3-45e1-bda7-5bd6b6101eb8\",\"type\":\"ColumnDataSource\"},{\"attributes\":{},\"id\":\"4d9f562a-1de3-4d34-b9d1-ccb77406b37a\",\"type\":\"BasicTickFormatter\"},{\"attributes\":{\"below\":[{\"id\":\"f8c7d528-671d-453e-ac8d-1e0ce102e22c\",\"type\":\"LogAxis\"}],\"left\":[{\"id\":\"aebc0b29-df7e-4778-b302-3f26360f19cf\",\"type\":\"LinearAxis\"}],\"plot_height\":400,\"plot_width\":400,\"renderers\":[{\"id\":\"f8c7d528-671d-453e-ac8d-1e0ce102e22c\",\"type\":\"LogAxis\"},{\"id\":\"704c3d55-cdf8-4c1e-a55e-9c25b643678e\",\"type\":\"Grid\"},{\"id\":\"aebc0b29-df7e-4778-b302-3f26360f19cf\",\"type\":\"LinearAxis\"},{\"id\":\"d8ba9d08-30d6-4bad-afd6-6293fb0d3e9b\",\"type\":\"Grid\"},{\"id\":\"6383d7d4-417c-4971-97c7-05ea3ad3e1aa\",\"type\":\"BoxAnnotation\"},{\"id\":\"dd4252ad-07e2-4b15-a30d-425abaeb29de\",\"type\":\"GlyphRenderer\"}],\"title\":{\"id\":\"db75ffc0-accc-464c-9862-6ff8db9b2a00\",\"type\":\"Title\"},\"tool_events\":{\"id\":\"85d781cb-920f-410a-9778-1302cd3a9308\",\"type\":\"ToolEvents\"},\"toolbar\":{\"id\":\"600cd5b6-67eb-4e61-bbf9-4314be5029d4\",\"type\":\"Toolbar\"},\"x_mapper_type\":\"log\",\"x_range\":{\"id\":\"e6ae4323-934e-414c-9ea3-634c8fd60cba\",\"type\":\"Range1d\"},\"y_range\":{\"id\":\"b2a2e036-952c-4ede-8448-5f442f218c43\",\"type\":\"Range1d\"}},\"id\":\"17bfb0e5-c7fd-44dc-8357-242f62dd4157\",\"subtype\":\"Figure\",\"type\":\"Plot\"},{\"attributes\":{\"active_drag\":\"auto\",\"active_scroll\":\"auto\",\"active_tap\":\"auto\",\"tools\":[{\"id\":\"b3ee1562-3de8-4b86-b5b4-0b258d0b775c\",\"type\":\"PanTool\"},{\"id\":\"06980498-7de2-43d2-9046-0b115bfb303d\",\"type\":\"WheelZoomTool\"},{\"id\":\"c4054e3d-e481-44d0-a6aa-db951d0cc28d\",\"type\":\"BoxZoomTool\"},{\"id\":\"9149653a-ce10-4c12-89bd-7ba83656efe7\",\"type\":\"SaveTool\"},{\"id\":\"55cffc3e-75ed-467d-908d-47ff6756f3d1\",\"type\":\"ResetTool\"},{\"id\":\"61d0aa5b-00c6-4be7-8c35-a511c5011cd2\",\"type\":\"HelpTool\"}]},\"id\":\"600cd5b6-67eb-4e61-bbf9-4314be5029d4\",\"type\":\"Toolbar\"},{\"attributes\":{\"callback\":null,\"end\":19,\"start\":14},\"id\":\"b2a2e036-952c-4ede-8448-5f442f218c43\",\"type\":\"Range1d\"},{\"attributes\":{\"formatter\":{\"id\":\"4d9f562a-1de3-4d34-b9d1-ccb77406b37a\",\"type\":\"BasicTickFormatter\"},\"plot\":{\"id\":\"17bfb0e5-c7fd-44dc-8357-242f62dd4157\",\"subtype\":\"Figure\",\"type\":\"Plot\"},\"ticker\":{\"id\":\"74df7deb-5d28-4ad2-9a14-4014c83db309\",\"type\":\"BasicTicker\"}},\"id\":\"aebc0b29-df7e-4778-b302-3f26360f19cf\",\"type\":\"LinearAxis\"},{\"attributes\":{},\"id\":\"85d781cb-920f-410a-9778-1302cd3a9308\",\"type\":\"ToolEvents\"},{\"attributes\":{\"plot\":null,\"text\":\"\"},\"id\":\"db75ffc0-accc-464c-9862-6ff8db9b2a00\",\"type\":\"Title\"},{\"attributes\":{\"callback\":null,\"end\":1e-07,\"start\":1},\"id\":\"e6ae4323-934e-414c-9ea3-634c8fd60cba\",\"type\":\"Range1d\"},{\"attributes\":{\"plot\":{\"id\":\"17bfb0e5-c7fd-44dc-8357-242f62dd4157\",\"subtype\":\"Figure\",\"type\":\"Plot\"},\"ticker\":{\"id\":\"fd48ca84-8a9d-4f20-a55d-9b2017431baa\",\"type\":\"LogTicker\"}},\"id\":\"704c3d55-cdf8-4c1e-a55e-9c25b643678e\",\"type\":\"Grid\"},{\"attributes\":{\"num_minor_ticks\":10},\"id\":\"fd48ca84-8a9d-4f20-a55d-9b2017431baa\",\"type\":\"LogTicker\"},{\"attributes\":{\"ticker\":null},\"id\":\"80cd54b5-1720-477d-b36a-23fcfe93dbcf\",\"type\":\"LogTickFormatter\"},{\"attributes\":{\"bottom_units\":\"screen\",\"fill_alpha\":{\"value\":0.5},\"fill_color\":{\"value\":\"lightgrey\"},\"left_units\":\"screen\",\"level\":\"overlay\",\"line_alpha\":{\"value\":1.0},\"line_color\":{\"value\":\"black\"},\"line_dash\":[4,4],\"line_width\":{\"value\":2},\"plot\":null,\"render_mode\":\"css\",\"right_units\":\"screen\",\"top_units\":\"screen\"},\"id\":\"6383d7d4-417c-4971-97c7-05ea3ad3e1aa\",\"type\":\"BoxAnnotation\"},{\"attributes\":{\"plot\":{\"id\":\"17bfb0e5-c7fd-44dc-8357-242f62dd4157\",\"subtype\":\"Figure\",\"type\":\"Plot\"}},\"id\":\"06980498-7de2-43d2-9046-0b115bfb303d\",\"type\":\"WheelZoomTool\"},{\"attributes\":{\"fill_alpha\":{\"value\":0.1},\"fill_color\":{\"value\":\"#1f77b4\"},\"line_alpha\":{\"value\":0.1},\"line_color\":{\"value\":\"#1f77b4\"},\"x\":{\"field\":\"x\"},\"y\":{\"field\":\"y\"}},\"id\":\"8ee71dcb-fb3b-45d7-9003-e197e19f6bfe\",\"type\":\"Circle\"},{\"attributes\":{\"plot\":{\"id\":\"17bfb0e5-c7fd-44dc-8357-242f62dd4157\",\"subtype\":\"Figure\",\"type\":\"Plot\"}},\"id\":\"9149653a-ce10-4c12-89bd-7ba83656efe7\",\"type\":\"SaveTool\"},{\"attributes\":{\"plot\":{\"id\":\"17bfb0e5-c7fd-44dc-8357-242f62dd4157\",\"subtype\":\"Figure\",\"type\":\"Plot\"}},\"id\":\"55cffc3e-75ed-467d-908d-47ff6756f3d1\",\"type\":\"ResetTool\"},{\"attributes\":{\"dimension\":1,\"plot\":{\"id\":\"17bfb0e5-c7fd-44dc-8357-242f62dd4157\",\"subtype\":\"Figure\",\"type\":\"Plot\"},\"ticker\":{\"id\":\"74df7deb-5d28-4ad2-9a14-4014c83db309\",\"type\":\"BasicTicker\"}},\"id\":\"d8ba9d08-30d6-4bad-afd6-6293fb0d3e9b\",\"type\":\"Grid\"},{\"attributes\":{\"data_source\":{\"id\":\"d81a7879-fcf3-45e1-bda7-5bd6b6101eb8\",\"type\":\"ColumnDataSource\"},\"glyph\":{\"id\":\"d829732e-a612-4684-8bd2-7a6bd1728f99\",\"type\":\"Circle\"},\"hover_glyph\":null,\"nonselection_glyph\":{\"id\":\"8ee71dcb-fb3b-45d7-9003-e197e19f6bfe\",\"type\":\"Circle\"},\"selection_glyph\":null},\"id\":\"dd4252ad-07e2-4b15-a30d-425abaeb29de\",\"type\":\"GlyphRenderer\"}],\"root_ids\":[\"17bfb0e5-c7fd-44dc-8357-242f62dd4157\"]},\"title\":\"Bokeh Application\",\"version\":\"0.12.4\"}};\n",
       "            var render_items = [{\"docid\":\"b0613cf5-0e75-4b1f-b4e2-0a81ebc007bf\",\"elementid\":\"792fc586-269f-4ff8-af85-a114c97c593b\",\"modelid\":\"17bfb0e5-c7fd-44dc-8357-242f62dd4157\"}];\n",
       "            \n",
       "            Bokeh.embed.embed_items(docs_json, render_items);\n",
       "          };\n",
       "          if (document.readyState != \"loading\") fn();\n",
       "          else document.addEventListener(\"DOMContentLoaded\", fn);\n",
       "        })();\n",
       "      },\n",
       "      function(Bokeh) {\n",
       "      }\n",
       "    ];\n",
       "  \n",
       "    function run_inline_js() {\n",
       "      \n",
       "      if ((window.Bokeh !== undefined) || (force === true)) {\n",
       "        for (var i = 0; i < inline_js.length; i++) {\n",
       "          inline_js[i](window.Bokeh);\n",
       "        }if (force === true) {\n",
       "          display_loaded();\n",
       "        }} else if (Date.now() < window._bokeh_timeout) {\n",
       "        setTimeout(run_inline_js, 100);\n",
       "      } else if (!window._bokeh_failed_load) {\n",
       "        console.log(\"Bokeh: BokehJS failed to load within specified timeout.\");\n",
       "        window._bokeh_failed_load = true;\n",
       "      } else if (force !== true) {\n",
       "        var cell = $(document.getElementById(\"792fc586-269f-4ff8-af85-a114c97c593b\")).parents('.cell').data().cell;\n",
       "        cell.output_area.append_execute_result(NB_LOAD_WARNING)\n",
       "      }\n",
       "  \n",
       "    }\n",
       "  \n",
       "    if (window._bokeh_is_loading === 0) {\n",
       "      console.log(\"Bokeh: BokehJS loaded, going straight to plotting\");\n",
       "      run_inline_js();\n",
       "    } else {\n",
       "      load_libs(js_urls, function() {\n",
       "        console.log(\"Bokeh: BokehJS plotting callback run at\", now());\n",
       "        run_inline_js();\n",
       "      });\n",
       "    }\n",
       "  }(this));\n",
       "</script>"
      ]
     },
     "metadata": {},
     "output_type": "display_data"
    }
   ],
   "source": [
    "# create a new plot \n",
    "p = figure(plot_width=VL_width, plot_height=VL_height,x_axis_type=VL_x_scale_type)\n",
    "\n",
    "if VL_chart_type == 'line':\n",
    "    # add a line renderer\n",
    "    p.line(df[VL_x_field], df[VL_y_field], color=VL_color)\n",
    "    p.y_range = Range1d(VL_y_scale_domain[0], VL_y_scale_domain[1])\n",
    "    p.x_range = Range1d(VL_x_scale_domain[0], VL_x_scale_domain[1])\n",
    "\n",
    "if VL_chart_type == 'point':\n",
    "    # add a line renderer\n",
    "    p.scatter(df[VL_x_field], df[VL_y_field], color=VL_color)\n",
    "    p.y_range = Range1d(VL_y_scale_domain[0], VL_y_scale_domain[1])\n",
    "    p.x_range = Range1d(VL_x_scale_domain[0], VL_x_scale_domain[1])    \n",
    "\n",
    "show(p) # show the results"
   ]
  },
  {
   "cell_type": "code",
   "execution_count": 22,
   "metadata": {
    "collapsed": true
   },
   "outputs": [],
   "source": [
    "# en sinds de wijzigingen in het json object is aangemaakt, moet die het ook weer doen in de plotting library van vegalite"
   ]
  },
  {
   "cell_type": "code",
   "execution_count": 23,
   "metadata": {
    "collapsed": false
   },
   "outputs": [
    {
     "data": {
      "text/html": [
       "<div class=\"vega-embed\" id=\"23d965d9-5626-4f5a-a93b-fdca72597fac\"></div>\n",
       "\n",
       "<style>\n",
       ".vega-embed svg, .vega-embed canvas {\n",
       "  border: 1px dotted gray;\n",
       "}\n",
       "\n",
       ".vega-embed .vega-actions a {\n",
       "  margin-right: 6px;\n",
       "}\n",
       "</style>\n"
      ]
     },
     "metadata": {
      "jupyter-vega": "#23d965d9-5626-4f5a-a93b-fdca72597fac"
     },
     "output_type": "display_data"
    },
    {
     "data": {
      "application/javascript": [
       "var spec = {\"encoding\": {\"y\": {\"type\": \"quantitative\", \"field\": \"waterstand\", \"scale\": {\"domain\": [14, 19]}}, \"x\": {\"type\": \"quantitative\", \"field\": \"frequentie\", \"scale\": {\"domain\": [1, 1e-07], \"type\": \"log\"}}, \"color\": {\"value\": \"red\"}}, \"mark\": \"point\", \"config\": {\"cell\": {\"height\": 350, \"width\": 500}}, \"height\": 400, \"width\": 400, \"data\": {\"values\": [{\"waterstand\": 15.2, \"frequentie\": 0.1131702}, {\"waterstand\": 15.3, \"frequentie\": 0.1005654}, {\"waterstand\": 15.4, \"frequentie\": 0.087884739}, {\"waterstand\": 15.5, \"frequentie\": 0.07728956599999999}, {\"waterstand\": 15.6, \"frequentie\": 0.067216396}, {\"waterstand\": 15.7, \"frequentie\": 0.057845965}, {\"waterstand\": 15.8, \"frequentie\": 0.049733865999999995}, {\"waterstand\": 15.9, \"frequentie\": 0.041748479}, {\"waterstand\": 16.0, \"frequentie\": 0.034775663}, {\"waterstand\": 16.1, \"frequentie\": 0.029016647000000003}, {\"waterstand\": 16.2, \"frequentie\": 0.024304695}, {\"waterstand\": 16.3, \"frequentie\": 0.020148421}, {\"waterstand\": 16.4, \"frequentie\": 0.016645148000000002}, {\"waterstand\": 16.5, \"frequentie\": 0.013650425}, {\"waterstand\": 16.6, \"frequentie\": 0.011218123}, {\"waterstand\": 16.7, \"frequentie\": 0.0089963209}, {\"waterstand\": 16.8, \"frequentie\": 0.0069746193}, {\"waterstand\": 16.9, \"frequentie\": 0.0052340645}, {\"waterstand\": 17.0, \"frequentie\": 0.0037789331}, {\"waterstand\": 17.1, \"frequentie\": 0.0026245182000000002}, {\"waterstand\": 17.2, \"frequentie\": 0.0017343683}, {\"waterstand\": 17.3, \"frequentie\": 0.0011132542999999998}, {\"waterstand\": 17.4, \"frequentie\": 0.00069478055}, {\"waterstand\": 17.5, \"frequentie\": 0.00041740347}, {\"waterstand\": 17.6, \"frequentie\": 0.00024611963}, {\"waterstand\": 17.7, \"frequentie\": 0.00014169683}, {\"waterstand\": 17.8, \"frequentie\": 8.2026672e-05}, {\"waterstand\": 17.9, \"frequentie\": 4.6522305999999996e-05}, {\"waterstand\": 18.0, \"frequentie\": 2.8103053e-05}, {\"waterstand\": 18.1, \"frequentie\": 1.7673468000000002e-05}, {\"waterstand\": 18.2, \"frequentie\": 1.0981082e-05}, {\"waterstand\": 18.3, \"frequentie\": 6.8735044e-06}]}};\n",
       "var selector = \"#23d965d9-5626-4f5a-a93b-fdca72597fac\";\n",
       "var type = \"vega-lite\";\n",
       "\n",
       "var output_area = this;\n",
       "require(['nbextensions/jupyter-vega/index'], function(vega) {\n",
       "  vega.render(selector, spec, type, output_area);\n",
       "}, function (err) {\n",
       "  if (err.requireType !== 'scripterror') {\n",
       "    throw(err);\n",
       "  }\n",
       "});\n"
      ]
     },
     "metadata": {
      "jupyter-vega": "#23d965d9-5626-4f5a-a93b-fdca72597fac"
     },
     "output_type": "display_data"
    },
    {
     "data": {
      "image/png": "[encoded data removed]"
     },
     "metadata": {
      "jupyter-vega": "#23d965d9-5626-4f5a-a93b-fdca72597fac"
     },
     "output_type": "display_data"
    }
   ],
   "source": [
    "VegaLite(VL, df)"
   ]
  },
  {
   "cell_type": "code",
   "execution_count": null,
   "metadata": {
    "collapsed": true
   },
   "outputs": [],
   "source": []
  }
 ],
 "metadata": {
  "kernelspec": {
   "display_name": "Python 3",
   "language": "python",
   "name": "python3"
  },
  "language_info": {
   "codemirror_mode": {
    "name": "ipython",
    "version": 3
   },
   "file_extension": ".py",
   "mimetype": "text/x-python",
   "name": "python",
   "nbconvert_exporter": "python",
   "pygments_lexer": "ipython3",
   "version": "3.5.2"
  }
 },
 "nbformat": 4,
 "nbformat_minor": 2
}
